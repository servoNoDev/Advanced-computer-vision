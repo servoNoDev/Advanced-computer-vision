{
 "cells": [
  {
   "cell_type": "markdown",
   "id": "fc332bd1-4df0-448d-a001-01c5adde5b2f",
   "metadata": {},
   "source": [
    "# Point cloud "
   ]
  },
  {
   "cell_type": "code",
   "execution_count": 1,
   "id": "5fbfc29e-6fb6-442b-9aa8-bdfaffda89d5",
   "metadata": {},
   "outputs": [],
   "source": [
    "import laspy\n",
    "import scipy\n",
    "import numpy as np\n",
    "import matplotlib.pyplot as plt\n",
    "import open3d as o3d"
   ]
  },
  {
   "cell_type": "markdown",
   "id": "6f6ec3cb-068e-4ab8-a4de-b279574c27b7",
   "metadata": {},
   "source": [
    "## Load point cloud"
   ]
  },
  {
   "cell_type": "code",
   "execution_count": 2,
   "id": "c8611def-fda7-4349-9a29-53b022fce78f",
   "metadata": {},
   "outputs": [],
   "source": [
    "point_cloud = laspy.read(\"../_data/point_cloud/20180912_SN0330_FN0088_01.las\")"
   ]
  },
  {
   "cell_type": "code",
   "execution_count": 3,
   "id": "3942ad4e-8dd7-458d-9242-b7441d92ef7a",
   "metadata": {},
   "outputs": [],
   "source": [
    "# Cast to numpy\n",
    "points = np.vstack((point_cloud.x, point_cloud.y, point_cloud.z)).transpose()"
   ]
  },
  {
   "cell_type": "code",
   "execution_count": 4,
   "id": "382dea3a-1274-4b6e-a911-0d1041d73c80",
   "metadata": {},
   "outputs": [
    {
     "data": {
      "text/plain": [
       "(2392722, 3)"
      ]
     },
     "execution_count": 4,
     "metadata": {},
     "output_type": "execute_result"
    }
   ],
   "source": [
    "points.shape"
   ]
  },
  {
   "cell_type": "code",
   "execution_count": 5,
   "id": "69d01310-cab7-4dbd-a18a-051398fa30d8",
   "metadata": {},
   "outputs": [
    {
     "data": {
      "text/plain": [
       "array([5.20827903e+05, 5.41956772e+06, 4.10562919e+02])"
      ]
     },
     "execution_count": 5,
     "metadata": {},
     "output_type": "execute_result"
    }
   ],
   "source": [
    "# Coordinates X, Y, Z\n",
    "points[0]"
   ]
  },
  {
   "cell_type": "code",
   "execution_count": 10,
   "id": "ca0c80d9-e85e-44c4-9930-2668729c9169",
   "metadata": {},
   "outputs": [],
   "source": [
    "pcd = o3d.geometry.PointCloud()\n",
    "pcd.points = o3d.utility.Vector3dVector(points)"
   ]
  },
  {
   "cell_type": "code",
   "execution_count": 11,
   "id": "b4199bac-d1c1-4b06-a87d-291cd8e14fd1",
   "metadata": {},
   "outputs": [
    {
     "name": "stdout",
     "output_type": "stream",
     "text": [
      "\u001b[1;33m[Open3D WARNING] GLFW Error: Cocoa: Failed to find service port for display\u001b[0;m\n",
      "\u001b[1;33m[Open3D WARNING] GLFW Error: Cocoa: Failed to find service port for display\u001b[0;m\n"
     ]
    }
   ],
   "source": [
    "o3d.visualization.draw_geometries([pcd])"
   ]
  },
  {
   "cell_type": "markdown",
   "id": "075b1e8a-6775-476f-8319-095aa4b1aeea",
   "metadata": {},
   "source": [
    "## Decrease \"resolution\"\n"
   ]
  },
  {
   "cell_type": "code",
   "execution_count": 12,
   "id": "b3ddb150-6208-47e2-b25a-a87376ad6abf",
   "metadata": {},
   "outputs": [
    {
     "name": "stdout",
     "output_type": "stream",
     "text": [
      "Number of RAW poinst : (2392722, 3)\n",
      "Number of noRAW poinst: (239273, 3)\n"
     ]
    }
   ],
   "source": [
    "# Select every n (10) points\n",
    "factor=10\n",
    "decimated_points_random = points[::factor]\n",
    "print(\"Number of RAW poinst : {pn}\".format(pn=str(points.shape)))\n",
    "print(\"Number of noRAW poinst: {pn}\".format(pn=str(decimated_points_random.shape)))"
   ]
  },
  {
   "cell_type": "code",
   "execution_count": 13,
   "id": "a1570046-86bc-4fcf-9b56-cb6c67253aee",
   "metadata": {},
   "outputs": [
    {
     "name": "stdout",
     "output_type": "stream",
     "text": [
      "\u001b[1;33m[Open3D WARNING] GLFW Error: Cocoa: Failed to find service port for display\u001b[0;m\n",
      "\u001b[1;33m[Open3D WARNING] GLFW Error: Cocoa: Failed to find service port for display\u001b[0;m\n"
     ]
    }
   ],
   "source": [
    "pcd = o3d.geometry.PointCloud()\n",
    "pcd.points = o3d.utility.Vector3dVector(decimated_points_random)\n",
    "o3d.visualization.draw_geometries([pcd])"
   ]
  },
  {
   "cell_type": "markdown",
   "id": "1e116f8f-d3dd-405e-bda3-e8df756693c2",
   "metadata": {},
   "source": [
    "## Select/filter specify area"
   ]
  },
  {
   "cell_type": "code",
   "execution_count": 47,
   "id": "619a4cc9-43b9-4bb9-9d17-bffebe8ce0b2",
   "metadata": {},
   "outputs": [
    {
     "data": {
      "text/plain": [
       "[DimensionInfo(name='X', kind=<DimensionKind.SignedInteger: 0>, num_bits=32, num_elements=1, is_standard=True, description='', offsets=None, scales=None),\n",
       " DimensionInfo(name='Y', kind=<DimensionKind.SignedInteger: 0>, num_bits=32, num_elements=1, is_standard=True, description='', offsets=None, scales=None),\n",
       " DimensionInfo(name='Z', kind=<DimensionKind.SignedInteger: 0>, num_bits=32, num_elements=1, is_standard=True, description='', offsets=None, scales=None),\n",
       " DimensionInfo(name='intensity', kind=<DimensionKind.UnsignedInteger: 1>, num_bits=16, num_elements=1, is_standard=True, description='', offsets=None, scales=None),\n",
       " DimensionInfo(name='return_number', kind=<DimensionKind.BitField: 3>, num_bits=3, num_elements=1, is_standard=True, description='', offsets=None, scales=None),\n",
       " DimensionInfo(name='number_of_returns', kind=<DimensionKind.BitField: 3>, num_bits=3, num_elements=1, is_standard=True, description='', offsets=None, scales=None),\n",
       " DimensionInfo(name='scan_direction_flag', kind=<DimensionKind.BitField: 3>, num_bits=1, num_elements=1, is_standard=True, description='', offsets=None, scales=None),\n",
       " DimensionInfo(name='edge_of_flight_line', kind=<DimensionKind.BitField: 3>, num_bits=1, num_elements=1, is_standard=True, description='', offsets=None, scales=None),\n",
       " DimensionInfo(name='classification', kind=<DimensionKind.BitField: 3>, num_bits=5, num_elements=1, is_standard=True, description='', offsets=None, scales=None),\n",
       " DimensionInfo(name='synthetic', kind=<DimensionKind.BitField: 3>, num_bits=1, num_elements=1, is_standard=True, description='', offsets=None, scales=None),\n",
       " DimensionInfo(name='key_point', kind=<DimensionKind.BitField: 3>, num_bits=1, num_elements=1, is_standard=True, description='', offsets=None, scales=None),\n",
       " DimensionInfo(name='withheld', kind=<DimensionKind.BitField: 3>, num_bits=1, num_elements=1, is_standard=True, description='', offsets=None, scales=None),\n",
       " DimensionInfo(name='scan_angle_rank', kind=<DimensionKind.SignedInteger: 0>, num_bits=8, num_elements=1, is_standard=True, description='', offsets=None, scales=None),\n",
       " DimensionInfo(name='user_data', kind=<DimensionKind.UnsignedInteger: 1>, num_bits=8, num_elements=1, is_standard=True, description='', offsets=None, scales=None),\n",
       " DimensionInfo(name='point_source_id', kind=<DimensionKind.UnsignedInteger: 1>, num_bits=16, num_elements=1, is_standard=True, description='', offsets=None, scales=None),\n",
       " DimensionInfo(name='gps_time', kind=<DimensionKind.FloatingPoint: 2>, num_bits=64, num_elements=1, is_standard=True, description='', offsets=None, scales=None),\n",
       " DimensionInfo(name='red', kind=<DimensionKind.UnsignedInteger: 1>, num_bits=16, num_elements=1, is_standard=True, description='', offsets=None, scales=None),\n",
       " DimensionInfo(name='green', kind=<DimensionKind.UnsignedInteger: 1>, num_bits=16, num_elements=1, is_standard=True, description='', offsets=None, scales=None),\n",
       " DimensionInfo(name='blue', kind=<DimensionKind.UnsignedInteger: 1>, num_bits=16, num_elements=1, is_standard=True, description='', offsets=None, scales=None)]"
      ]
     },
     "execution_count": 47,
     "metadata": {},
     "output_type": "execute_result"
    }
   ],
   "source": [
    "list(point_cloud.point_format)"
   ]
  },
  {
   "cell_type": "markdown",
   "id": "52949812-76e9-40e0-b5cd-0740b10bc493",
   "metadata": {},
   "source": [
    "### From array"
   ]
  },
  {
   "cell_type": "code",
   "execution_count": 14,
   "id": "7257efda-5a5a-4127-a864-4fcf1393d7b0",
   "metadata": {},
   "outputs": [
    {
     "name": "stdout",
     "output_type": "stream",
     "text": [
      "\u001b[1;33m[Open3D WARNING] GLFW Error: Cocoa: Failed to find service port for display\u001b[0;m\n",
      "\u001b[1;33m[Open3D WARNING] GLFW Error: Cocoa: Failed to find service port for display\u001b[0;m\n"
     ]
    }
   ],
   "source": [
    "pcd = o3d.geometry.PointCloud()\n",
    "pcd.points = o3d.utility.Vector3dVector(points[:150000])\n",
    "o3d.visualization.draw_geometries([pcd])"
   ]
  },
  {
   "cell_type": "markdown",
   "id": "c9213642-3e59-4a95-9587-25600835dd5e",
   "metadata": {},
   "source": [
    "### By elevation"
   ]
  },
  {
   "cell_type": "code",
   "execution_count": 17,
   "id": "05012893-0f3e-4835-86e9-eda32b10db42",
   "metadata": {},
   "outputs": [
    {
     "name": "stdout",
     "output_type": "stream",
     "text": [
      "\u001b[1;33m[Open3D WARNING] GLFW Error: Cocoa: Failed to find service port for display\u001b[0;m\n",
      "\u001b[1;33m[Open3D WARNING] GLFW Error: Cocoa: Failed to find service port for display\u001b[0;m\n"
     ]
    }
   ],
   "source": [
    "points_cut = points[:150000]\n",
    "points_cut = points_cut[points_cut[:,2] > 400]\n",
    "pcd = o3d.geometry.PointCloud()\n",
    "pcd.points = o3d.utility.Vector3dVector(points_cut)\n",
    "o3d.visualization.draw_geometries([pcd])"
   ]
  },
  {
   "cell_type": "markdown",
   "id": "b6cebf5c-765a-48a9-b65e-41bec7a59587",
   "metadata": {},
   "source": [
    "### By ..."
   ]
  },
  {
   "cell_type": "code",
   "execution_count": 18,
   "id": "bc634306-b7c0-4412-a826-ee1cb503eaa5",
   "metadata": {},
   "outputs": [
    {
     "name": "stdout",
     "output_type": "stream",
     "text": [
      "\u001b[1;33m[Open3D WARNING] GLFW Error: Cocoa: Failed to find service port for display\u001b[0;m\n",
      "\u001b[1;33m[Open3D WARNING] GLFW Error: Cocoa: Failed to find service port for display\u001b[0;m\n"
     ]
    }
   ],
   "source": [
    "# points_cut = points[:150000]\n",
    "\n",
    "slicer_0 = (max(points_cut[:,0]) + min(points_cut[:,0]))/2\n",
    "points_cut = points_cut[points_cut[:,0] > slicer_0]\n",
    "\n",
    "pcd = o3d.geometry.PointCloud()\n",
    "pcd.points = o3d.utility.Vector3dVector(points_cut)\n",
    "o3d.visualization.draw_geometries([pcd])"
   ]
  },
  {
   "cell_type": "markdown",
   "id": "45b206c2-8af3-4835-8e46-9e01dbaed49f",
   "metadata": {},
   "source": [
    "### By time"
   ]
  },
  {
   "cell_type": "code",
   "execution_count": 19,
   "id": "8f9cd952-59a6-45a2-9342-320242bec7cf",
   "metadata": {},
   "outputs": [
    {
     "name": "stdout",
     "output_type": "stream",
     "text": [
      "1536741736.201407\n",
      "1536741844.9271975\n"
     ]
    }
   ],
   "source": [
    "print(min(point_cloud.gps_time))\n",
    "print(max(point_cloud.gps_time))"
   ]
  },
  {
   "cell_type": "code",
   "execution_count": 20,
   "id": "38957e8a-3681-41f1-9936-d7667bf3454e",
   "metadata": {},
   "outputs": [],
   "source": [
    "slicer_t = 1536741736 + 30\n",
    "points_cut = points[point_cloud.gps_time > slicer_t]"
   ]
  },
  {
   "cell_type": "code",
   "execution_count": 21,
   "id": "ad01062f-89e4-458e-8036-0b0a78511d81",
   "metadata": {},
   "outputs": [
    {
     "name": "stdout",
     "output_type": "stream",
     "text": [
      "\u001b[1;33m[Open3D WARNING] GLFW Error: Cocoa: Failed to find service port for display\u001b[0;m\n",
      "\u001b[1;33m[Open3D WARNING] GLFW Error: Cocoa: Failed to find service port for display\u001b[0;m\n"
     ]
    }
   ],
   "source": [
    "#%%\n",
    "pcd = o3d.geometry.PointCloud()\n",
    "pcd.points = o3d.utility.Vector3dVector(points_cut)\n",
    "o3d.visualization.draw_geometries([pcd])"
   ]
  },
  {
   "cell_type": "markdown",
   "id": "1342e7e8-28e2-4473-8d75-a046c931ae9b",
   "metadata": {},
   "source": [
    "### By return number"
   ]
  },
  {
   "cell_type": "code",
   "execution_count": 23,
   "id": "45eeac97-2434-4ed9-8843-7ad8dc7771f7",
   "metadata": {},
   "outputs": [
    {
     "name": "stdout",
     "output_type": "stream",
     "text": [
      "dict_keys([1, 2, 3])\n",
      "dict_values([1940823, 387851, 64048])\n"
     ]
    }
   ],
   "source": [
    "from collections import Counter\n",
    "print(Counter(point_cloud.return_number).keys()) # equals to list(set(words))\n",
    "print(Counter(point_cloud.return_number).values()) # counts the elements' frequency"
   ]
  },
  {
   "cell_type": "code",
   "execution_count": null,
   "id": "154e0c05-6b39-4489-9ebe-e4e57d9fdffe",
   "metadata": {},
   "outputs": [],
   "source": [
    "pcd = o3d.geometry.PointCloud()\n",
    "pcd.points = o3d.utility.Vector3dVector(points[point_cloud.return_number == 1])\n",
    "o3d.visualization.draw_geometries([pcd])"
   ]
  },
  {
   "cell_type": "code",
   "execution_count": null,
   "id": "cbead225-5581-450a-b092-0febd95a6944",
   "metadata": {},
   "outputs": [],
   "source": [
    "print(Counter(point_cloud.number_of_returns).keys()) # equals to list(set(words))\n",
    "print(Counter(point_cloud.number_of_returns).values()) # counts the elements' frequency"
   ]
  },
  {
   "cell_type": "code",
   "execution_count": null,
   "id": "5768e553-4b47-48b5-81c7-bd750c9d7f01",
   "metadata": {},
   "outputs": [],
   "source": [
    "np.where(point_cloud.number_of_returns == 3)"
   ]
  },
  {
   "cell_type": "code",
   "execution_count": null,
   "id": "99dc9719-c7ae-47ca-b1dd-5e7240851a2e",
   "metadata": {},
   "outputs": [],
   "source": [
    "point_number = 61\n",
    "print(point_cloud.number_of_returns[point_number])\n",
    "print(point_cloud.return_number[point_number])"
   ]
  },
  {
   "cell_type": "code",
   "execution_count": 25,
   "id": "2492028e-fb59-49f7-a4b0-78f236526c48",
   "metadata": {},
   "outputs": [
    {
     "name": "stdout",
     "output_type": "stream",
     "text": [
      "\u001b[1;33m[Open3D WARNING] GLFW Error: Cocoa: Failed to find service port for display\u001b[0;m\n",
      "\u001b[1;33m[Open3D WARNING] GLFW Error: Cocoa: Failed to find service port for display\u001b[0;m\n"
     ]
    }
   ],
   "source": [
    "pcd = o3d.geometry.PointCloud()\n",
    "pcd.points = o3d.utility.Vector3dVector(points[(point_cloud.return_number == 3)])\n",
    "o3d.visualization.draw_geometries([pcd])"
   ]
  },
  {
   "cell_type": "code",
   "execution_count": 86,
   "id": "3ee02f2e-9ceb-4b3c-b24e-8371a72f3ddb",
   "metadata": {},
   "outputs": [
    {
     "name": "stdout",
     "output_type": "stream",
     "text": [
      "\u001b[1;33m[Open3D WARNING] GLFW Error: Cocoa: Failed to find service port for display\u001b[0;m\n",
      "\u001b[1;33m[Open3D WARNING] GLFW Error: Cocoa: Failed to find service port for display\u001b[0;m\n"
     ]
    }
   ],
   "source": [
    "# Without ground and cables\n",
    "pcd = o3d.geometry.PointCloud()\n",
    "pcd.points = o3d.utility.Vector3dVector(points[(point_cloud.number_of_returns == 3) & (point_cloud.return_number > 2)])\n",
    "o3d.visualization.draw_geometries([pcd])"
   ]
  },
  {
   "cell_type": "markdown",
   "id": "cbded76c-236b-40d7-aa3c-60deb268f0c5",
   "metadata": {},
   "source": [
    "#### By intensity"
   ]
  },
  {
   "cell_type": "code",
   "execution_count": 90,
   "id": "da112ade-ff2e-4a77-b7a7-c34001944426",
   "metadata": {},
   "outputs": [
    {
     "name": "stdout",
     "output_type": "stream",
     "text": [
      "12\n",
      "572\n"
     ]
    }
   ],
   "source": [
    "print(min(point_cloud.intensity))\n",
    "print(max(point_cloud.intensity))"
   ]
  },
  {
   "cell_type": "code",
   "execution_count": 94,
   "id": "fc783e69-183f-43f2-b31c-2768af113d04",
   "metadata": {},
   "outputs": [
    {
     "data": {
      "text/plain": [
       "(array([5.18470e+04, 3.48375e+05, 1.28292e+06, 5.03524e+05, 1.50283e+05,\n",
       "        4.52120e+04, 8.75200e+03, 1.61600e+03, 1.75000e+02, 1.80000e+01]),\n",
       " array([ 12.,  68., 124., 180., 236., 292., 348., 404., 460., 516., 572.]),\n",
       " <BarContainer object of 10 artists>)"
      ]
     },
     "execution_count": 94,
     "metadata": {},
     "output_type": "execute_result"
    },
    {
     "data": {
      "image/png": "[encoded data removed]",
      "text/plain": [
       "<Figure size 640x480 with 1 Axes>"
      ]
     },
     "metadata": {},
     "output_type": "display_data"
    }
   ],
   "source": [
    "import matplotlib.pyplot as plt\n",
    "plt.hist(point_cloud.intensity)"
   ]
  },
  {
   "cell_type": "code",
   "execution_count": 108,
   "id": "c72f360f-70e1-4fe2-bbeb-73ce06ae6577",
   "metadata": {},
   "outputs": [
    {
     "name": "stdout",
     "output_type": "stream",
     "text": [
      "\u001b[1;33m[Open3D WARNING] GLFW Error: Cocoa: Failed to find service port for display\u001b[0;m\n",
      "\u001b[1;33m[Open3D WARNING] GLFW Error: Cocoa: Failed to find service port for display\u001b[0;m\n"
     ]
    }
   ],
   "source": [
    "# Vedenie bez pody pod nim\n",
    "pcd = o3d.geometry.PointCloud()\n",
    "pcd.points = o3d.utility.Vector3dVector(points[(point_cloud.intensity < 50)])\n",
    "o3d.visualization.draw_geometries([pcd])"
   ]
  },
  {
   "cell_type": "code",
   "execution_count": null,
   "id": "79bbd7d6-a5d8-4d3d-b135-c88beaf32938",
   "metadata": {},
   "outputs": [],
   "source": [
    "# KEY s"
   ]
  },
  {
   "cell_type": "markdown",
   "id": "7d6447d0-f684-4b71-afcc-68d05ebd7e54",
   "metadata": {},
   "source": [
    "## Own clolor"
   ]
  },
  {
   "cell_type": "code",
   "execution_count": 31,
   "id": "456dfed6-3305-423d-9d2a-2733e198c2dc",
   "metadata": {},
   "outputs": [
    {
     "data": {
      "text/plain": [
       "(array([      0,       3,       4, ..., 2392719, 2392720, 2392721]),)"
      ]
     },
     "execution_count": 31,
     "metadata": {},
     "output_type": "execute_result"
    }
   ],
   "source": []
  },
  {
   "cell_type": "code",
   "execution_count": 7,
   "id": "28a6478e-4084-403c-ae9f-87cc5a3551b0",
   "metadata": {},
   "outputs": [],
   "source": [
    "# Vedenie bez pody pod nim\n",
    "pcd = o3d.geometry.PointCloud()\n",
    "pcd.points = o3d.utility.Vector3dVector(points)\n"
   ]
  },
  {
   "cell_type": "code",
   "execution_count": 9,
   "id": "68cda6a6-6d7b-4bff-bbca-51be07683c66",
   "metadata": {},
   "outputs": [
    {
     "name": "stdout",
     "output_type": "stream",
     "text": [
      "\u001b[1;33m[Open3D WARNING] GLFW Error: Cocoa: Failed to find service port for display\u001b[0;m\n",
      "\u001b[1;33m[Open3D WARNING] GLFW Error: Cocoa: Failed to find service port for display\u001b[0;m\n"
     ]
    }
   ],
   "source": [
    "\n",
    "pcd.paint_uniform_color([0.55, 0.55, 0.55])\n",
    "for item in np.where(point_cloud.intensity < 250)[0]:\n",
    "    pcd.colors[int(item)] = [1,0,0.5]\n",
    "o3d.visualization.draw_geometries([pcd])"
   ]
  },
  {
   "cell_type": "markdown",
   "id": "4b5777d9-7264-4c4b-a143-1668ed021a77",
   "metadata": {},
   "source": [
    "## Load point cloud"
   ]
  },
  {
   "cell_type": "code",
   "execution_count": 1,
   "id": "2071282b-09be-4802-bc25-98ba9a503022",
   "metadata": {},
   "outputs": [],
   "source": [
    "import laspy\n",
    "import scipy\n",
    "import numpy as np\n",
    "import matplotlib.pyplot as plt\n",
    "import open3d as o3d"
   ]
  },
  {
   "cell_type": "code",
   "execution_count": 2,
   "id": "f98bab17-3c88-4113-beb6-187bb2d1e9fd",
   "metadata": {},
   "outputs": [],
   "source": [
    "point_cloud = laspy.read(\"../_data/point_cloud/20_BanskaBystrica_19_341316_5383246_d_c_jtsk03_bpv_clip.las\")"
   ]
  },
  {
   "cell_type": "code",
   "execution_count": 3,
   "id": "a5961a87-6311-4dcc-a509-da76b53f2020",
   "metadata": {},
   "outputs": [],
   "source": [
    "# Cast to numpy\n",
    "points = np.vstack((point_cloud.x, point_cloud.y, point_cloud.z)).transpose()"
   ]
  },
  {
   "cell_type": "code",
   "execution_count": 4,
   "id": "834938ca-f561-4b10-aa58-cdead2e6b1de",
   "metadata": {},
   "outputs": [
    {
     "data": {
      "text/plain": [
       "(818721, 3)"
      ]
     },
     "execution_count": 4,
     "metadata": {},
     "output_type": "execute_result"
    }
   ],
   "source": [
    "points.shape"
   ]
  },
  {
   "cell_type": "code",
   "execution_count": 5,
   "id": "4b76cc6f-23c5-4476-8f9e-af3522da3c35",
   "metadata": {},
   "outputs": [
    {
     "data": {
      "text/plain": [
       "array([-4.40001060e+05, -1.24467168e+06,  2.44000000e+02])"
      ]
     },
     "execution_count": 5,
     "metadata": {},
     "output_type": "execute_result"
    }
   ],
   "source": [
    "# Coordinates X, Y, Z\n",
    "points[0]"
   ]
  },
  {
   "cell_type": "code",
   "execution_count": 6,
   "id": "8c458972-c324-4465-8a31-9341ddfab564",
   "metadata": {},
   "outputs": [
    {
     "name": "stdout",
     "output_type": "stream",
     "text": [
      "\u001b[1;33m[Open3D WARNING] GLFW Error: Cocoa: Failed to find service port for display\u001b[0;m\n",
      "\u001b[1;33m[Open3D WARNING] GLFW Error: Cocoa: Failed to find service port for display\u001b[0;m\n"
     ]
    }
   ],
   "source": [
    "pcd = o3d.geometry.PointCloud()\n",
    "pcd.points = o3d.utility.Vector3dVector(points)\n",
    "o3d.visualization.draw_geometries([pcd])"
   ]
  },
  {
   "cell_type": "code",
   "execution_count": 7,
   "id": "1cb184e0-b1b7-4689-95d6-9d0f06d32a3d",
   "metadata": {},
   "outputs": [
    {
     "data": {
      "text/plain": [
       "{1, 2, 3, 4, 5, 6, 7, 18}"
      ]
     },
     "execution_count": 7,
     "metadata": {},
     "output_type": "execute_result"
    }
   ],
   "source": [
    "set(point_cloud.classification)"
   ]
  },
  {
   "cell_type": "markdown",
   "id": "60a086fe-f5d1-4041-9b58-3b627f26aafc",
   "metadata": {},
   "source": [
    "### Selecet class"
   ]
  },
  {
   "cell_type": "code",
   "execution_count": 8,
   "id": "729795ff-56ed-45d7-a510-e8a69a62dde0",
   "metadata": {},
   "outputs": [
    {
     "name": "stdout",
     "output_type": "stream",
     "text": [
      "\u001b[1;33m[Open3D WARNING] GLFW Error: Cocoa: Failed to find service port for display\u001b[0;m\n",
      "\u001b[1;33m[Open3D WARNING] GLFW Error: Cocoa: Failed to find service port for display\u001b[0;m\n"
     ]
    }
   ],
   "source": [
    "pcd = o3d.geometry.PointCloud()\n",
    "pcd.points = o3d.utility.Vector3dVector(points[point_cloud.classification == 5])\n",
    "o3d.visualization.draw_geometries([pcd])"
   ]
  },
  {
   "cell_type": "code",
   "execution_count": 6,
   "id": "ec40d983-b60a-4428-b18e-3e2f455e8e94",
   "metadata": {},
   "outputs": [
    {
     "data": {
      "text/plain": [
       "PointCloud with 818721 points."
      ]
     },
     "execution_count": 6,
     "metadata": {},
     "output_type": "execute_result"
    }
   ],
   "source": [
    "pcd = o3d.geometry.PointCloud()\n",
    "\n",
    "pcd.points = o3d.utility.Vector3dVector(points)\n",
    "pcd.paint_uniform_color([0.5, 0.5, 0.5])"
   ]
  },
  {
   "cell_type": "code",
   "execution_count": 7,
   "id": "644a8540-efd8-4dfd-8542-7099d0fd0720",
   "metadata": {},
   "outputs": [],
   "source": [
    "for index in np.where(point_cloud.classification == 5)[0]:\n",
    "    pcd.colors[index] = [1,0,0]"
   ]
  },
  {
   "cell_type": "code",
   "execution_count": 8,
   "id": "75664e71-35fa-4f21-942f-1e4c571ad428",
   "metadata": {},
   "outputs": [
    {
     "name": "stdout",
     "output_type": "stream",
     "text": [
      "\u001b[1;33m[Open3D WARNING] GLFW Error: Cocoa: Failed to find service port for display\u001b[0;m\n",
      "\u001b[1;33m[Open3D WARNING] GLFW Error: Cocoa: Failed to find service port for display\u001b[0;m\n"
     ]
    }
   ],
   "source": [
    "o3d.visualization.draw_geometries([pcd])"
   ]
  },
  {
   "cell_type": "code",
   "execution_count": 131,
   "id": "e865a1e2-63b8-40f0-835c-000bf1b64763",
   "metadata": {},
   "outputs": [
    {
     "data": {
      "text/plain": [
       "(array([ 45339,  47052,  50772, ..., 811674, 811676, 811692]),)"
      ]
     },
     "execution_count": 131,
     "metadata": {},
     "output_type": "execute_result"
    }
   ],
   "source": [
    "np.where(point_cloud.classification == 5)"
   ]
  },
  {
   "cell_type": "markdown",
   "id": "8b6c27f8-3272-438d-811d-364920e6f47f",
   "metadata": {},
   "source": [
    "### Filtering"
   ]
  },
  {
   "cell_type": "code",
   "execution_count": 9,
   "id": "72cb6a54-d931-4648-91b5-eb4c1b1f4368",
   "metadata": {},
   "outputs": [],
   "source": [
    "def display_inlier_outlier(cloud, ind):\n",
    "    inlier_cloud = cloud.select_by_index(ind)\n",
    "    outlier_cloud = cloud.select_by_index(ind, invert=True)\n",
    "\n",
    "    print(\"Showing outliers (red) and inliers (gray): \")\n",
    "    outlier_cloud.paint_uniform_color([1, 0, 0])\n",
    "    inlier_cloud.paint_uniform_color([0.8, 0.8, 0.8])\n",
    "    o3d.visualization.draw_geometries([inlier_cloud, outlier_cloud])"
   ]
  },
  {
   "cell_type": "code",
   "execution_count": 10,
   "id": "a51577b3-89a6-49d2-8c1c-5f3231e0ff4f",
   "metadata": {},
   "outputs": [],
   "source": [
    "pcd = o3d.geometry.PointCloud()\n",
    "\n",
    "pcd.points = o3d.utility.Vector3dVector(points[point_cloud.classification == 5])\n",
    "# downpcd = pcd.voxel_down_sample(voxel_size=0.02)"
   ]
  },
  {
   "cell_type": "code",
   "execution_count": null,
   "id": "72baae24-0193-47fb-beeb-4cb3288f6b89",
   "metadata": {},
   "outputs": [],
   "source": []
  },
  {
   "cell_type": "code",
   "execution_count": 11,
   "id": "e47923e7-8563-47d8-a007-d26cb2f0b75d",
   "metadata": {},
   "outputs": [
    {
     "name": "stdout",
     "output_type": "stream",
     "text": [
      "\u001b[1;33m[Open3D WARNING] GLFW Error: Cocoa: Failed to find service port for display\u001b[0;m\n",
      "\u001b[1;33m[Open3D WARNING] GLFW Error: Cocoa: Failed to find service port for display\u001b[0;m\n"
     ]
    }
   ],
   "source": [
    "o3d.visualization.draw_geometries([pcd])"
   ]
  },
  {
   "cell_type": "code",
   "execution_count": 12,
   "id": "8a5bbf54-c9c5-48f4-b3ce-8d8614013f52",
   "metadata": {},
   "outputs": [
    {
     "name": "stdout",
     "output_type": "stream",
     "text": [
      "Radius oulier removal\n",
      "Showing outliers (red) and inliers (gray): \n",
      "\u001b[1;33m[Open3D WARNING] GLFW Error: Cocoa: Failed to find service port for display\u001b[0;m\n",
      "\u001b[1;33m[Open3D WARNING] GLFW Error: Cocoa: Failed to find service port for display\u001b[0;m\n"
     ]
    }
   ],
   "source": [
    "print(\"Radius oulier removal\")\n",
    "\n",
    "cl, ind = pcd.remove_radius_outlier(nb_points=20, radius=10)\n",
    "# print(ind)\n",
    "display_inlier_outlier(pcd, ind)"
   ]
  },
  {
   "cell_type": "code",
   "execution_count": 13,
   "id": "c8c05ac8-65f3-4d29-bbce-9f79e99e5be8",
   "metadata": {},
   "outputs": [
    {
     "data": {
      "text/plain": [
       "array([False, False, False, ..., False, False, False])"
      ]
     },
     "execution_count": 13,
     "metadata": {},
     "output_type": "execute_result"
    }
   ],
   "source": [
    "point_cloud.classification == 5"
   ]
  },
  {
   "cell_type": "code",
   "execution_count": 40,
   "id": "7c2c1716-b1d3-462d-b0d8-f55f23c29aad",
   "metadata": {},
   "outputs": [
    {
     "name": "stdout",
     "output_type": "stream",
     "text": [
      "\u001b[1;33m[Open3D WARNING] GLFW Error: Cocoa: Failed to find service port for display\u001b[0;m\n",
      "\u001b[1;33m[Open3D WARNING] GLFW Error: Cocoa: Failed to find service port for display\u001b[0;m\n"
     ]
    }
   ],
   "source": [
    "o3d.visualization.draw_geometries([cl])"
   ]
  },
  {
   "cell_type": "code",
   "execution_count": 14,
   "id": "cbc751f3-e5e5-4d22-ac01-d6a362332e21",
   "metadata": {},
   "outputs": [
    {
     "ename": "NameError",
     "evalue": "name 'pointes_vegetation' is not defined",
     "output_type": "error",
     "traceback": [
      "\u001b[0;31m---------------------------------------------------------------------------\u001b[0m",
      "\u001b[0;31mNameError\u001b[0m                                 Traceback (most recent call last)",
      "Cell \u001b[0;32mIn[14], line 1\u001b[0m\n\u001b[0;32m----> 1\u001b[0m \u001b[43mpointes_vegetation\u001b[49m\n",
      "\u001b[0;31mNameError\u001b[0m: name 'pointes_vegetation' is not defined"
     ]
    }
   ],
   "source": [
    "pointes_vegetation"
   ]
  },
  {
   "cell_type": "code",
   "execution_count": null,
   "id": "9b78b261-dd8b-4d2c-af93-df6d4bcb096d",
   "metadata": {},
   "outputs": [],
   "source": [
    "point_cloud"
   ]
  },
  {
   "cell_type": "markdown",
   "id": "7962969d-0a71-4fe4-8afc-5e6b27569a79",
   "metadata": {},
   "source": [
    "### Clustering"
   ]
  },
  {
   "cell_type": "code",
   "execution_count": 15,
   "id": "f667b0df-cf7f-480f-9290-8acd06727718",
   "metadata": {},
   "outputs": [
    {
     "name": "stdout",
     "output_type": "stream",
     "text": [
      "[Open3D DEBUG] Precompute neighbors.\n",
      "[Open3D DEBUG] Done Precompute neighbors.                     ] 2%\n",
      "[Open3D DEBUG] Compute Clusters\n",
      "Precompute neighbors.[================>           [Open3D DEBUG] Done Compute Clusters: 79\n",
      "Precompute neighbors.[========================================] 100%\n",
      "Clustering[=======================================>] 97%\r"
     ]
    }
   ],
   "source": [
    "with o3d.utility.VerbosityContextManager(\n",
    "        o3d.utility.VerbosityLevel.Debug) as cm:\n",
    "    labels = np.array(\n",
    "        cl.cluster_dbscan(eps=4, min_points=20, print_progress=True))"
   ]
  },
  {
   "cell_type": "code",
   "execution_count": null,
   "id": "44dccf4b-b210-4d21-808a-13b6bc1611ea",
   "metadata": {},
   "outputs": [],
   "source": [
    "max_label = labels.max()\n",
    "print(f\"point cloud has {max_label + 1} clusters\")\n",
    "colors = plt.get_cmap(\"tab20\")(labels / (max_label if max_label > 0 else 1))\n",
    "colors[labels < 0] = 0\n",
    "cl.colors = o3d.utility.Vector3dVector(colors[:, :3])\n",
    "o3d.visualization.draw_geometries([cl])"
   ]
  },
  {
   "cell_type": "code",
   "execution_count": 138,
   "id": "50c912cb-cee3-4d13-84aa-02cd276da677",
   "metadata": {},
   "outputs": [
    {
     "data": {
      "text/plain": [
       "Counter({0: 1975,\n",
       "         1: 53,\n",
       "         -1: 272,\n",
       "         3: 18,\n",
       "         2: 41,\n",
       "         4: 39,\n",
       "         5: 24,\n",
       "         6: 43,\n",
       "         7: 30,\n",
       "         8: 206,\n",
       "         9: 450,\n",
       "         10: 335,\n",
       "         11: 259,\n",
       "         12: 497,\n",
       "         13: 497,\n",
       "         14: 381,\n",
       "         15: 34,\n",
       "         16: 35,\n",
       "         35: 121,\n",
       "         17: 431,\n",
       "         18: 52,\n",
       "         19: 4940,\n",
       "         20: 233,\n",
       "         21: 41,\n",
       "         22: 1355,\n",
       "         23: 47,\n",
       "         24: 70,\n",
       "         25: 43,\n",
       "         26: 424,\n",
       "         27: 20,\n",
       "         28: 32,\n",
       "         29: 73,\n",
       "         30: 311,\n",
       "         31: 22,\n",
       "         32: 62,\n",
       "         33: 62,\n",
       "         34: 45,\n",
       "         36: 251,\n",
       "         37: 218,\n",
       "         38: 1551,\n",
       "         39: 3605,\n",
       "         40: 380,\n",
       "         41: 86,\n",
       "         42: 28,\n",
       "         43: 207,\n",
       "         44: 97,\n",
       "         45: 1723,\n",
       "         46: 1795,\n",
       "         47: 442,\n",
       "         48: 81,\n",
       "         49: 82,\n",
       "         50: 129,\n",
       "         51: 65,\n",
       "         52: 658,\n",
       "         53: 400,\n",
       "         54: 60,\n",
       "         55: 192,\n",
       "         56: 564,\n",
       "         57: 1214,\n",
       "         58: 25,\n",
       "         59: 38,\n",
       "         60: 131,\n",
       "         61: 193,\n",
       "         62: 240,\n",
       "         63: 33,\n",
       "         64: 464,\n",
       "         65: 39,\n",
       "         66: 611,\n",
       "         67: 69,\n",
       "         68: 399,\n",
       "         69: 344,\n",
       "         70: 790,\n",
       "         71: 257,\n",
       "         72: 128,\n",
       "         73: 755,\n",
       "         74: 81,\n",
       "         75: 174,\n",
       "         76: 148,\n",
       "         77: 389,\n",
       "         78: 743})"
      ]
     },
     "execution_count": 138,
     "metadata": {},
     "output_type": "execute_result"
    }
   ],
   "source": [
    "from collections import Counter\n",
    "Counter(labels)"
   ]
  },
  {
   "cell_type": "code",
   "execution_count": null,
   "id": "43a167a7-38dd-4523-8590-8f87fb9c9c7a",
   "metadata": {},
   "outputs": [],
   "source": []
  }
 ],
 "metadata": {
  "kernelspec": {
   "display_name": "Python 3 (ipykernel)",
   "language": "python",
   "name": "python3"
  },
  "language_info": {
   "codemirror_mode": {
    "name": "ipython",
    "version": 3
   },
   "file_extension": ".py",
   "mimetype": "text/x-python",
   "name": "python",
   "nbconvert_exporter": "python",
   "pygments_lexer": "ipython3",
   "version": "3.9.16"
  }
 },
 "nbformat": 4,
 "nbformat_minor": 5
}
