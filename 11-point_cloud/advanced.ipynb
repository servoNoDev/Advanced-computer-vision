{
 "cells": [
  {
   "cell_type": "code",
   "execution_count": 1,
   "id": "679f087f-0635-4369-88a7-943ae2b11cbe",
   "metadata": {
    "ExecuteTime": {
     "end_time": "2024-04-17T22:40:07.442816Z",
     "start_time": "2024-04-17T22:40:05.766382Z"
    }
   },
   "outputs": [],
   "source": [
    "import laspy\n",
    "import scipy\n",
    "import numpy as np\n",
    "import matplotlib.pyplot as plt\n",
    "import open3d as o3d\n",
    "\n",
    "dataset = o3d.data.PCDPointCloud()\n",
    "pcd = o3d.io.read_point_cloud(dataset.path)"
   ]
  },
  {
   "cell_type": "code",
   "execution_count": 2,
   "id": "1f71c6ce-5963-41f6-85cf-dc46c22b5c4e",
   "metadata": {
    "ExecuteTime": {
     "end_time": "2024-04-17T22:40:07.546549Z",
     "start_time": "2024-04-17T22:40:07.200382Z"
    }
   },
   "outputs": [
    {
     "name": "stdout",
     "output_type": "stream",
     "text": [
      "Load a ply point cloud, print it, and render it\n"
     ]
    }
   ],
   "source": [
    "print(\"Load a ply point cloud, print it, and render it\")\n",
    "# pcd = o3d.io.read_point_cloud(\"../_data/point_cloud/fragment.ply\")\n",
    "pcd = o3d.io.read_point_cloud(\"../_data/point_cloud/Scaniverse 2023-11-23 171532.ply\")"
   ]
  },
  {
   "cell_type": "code",
   "execution_count": 4,
   "id": "956154a2-ce0c-41a1-a9cc-b21a5ee55cae",
   "metadata": {
    "ExecuteTime": {
     "end_time": "2024-04-17T22:41:20.628489Z",
     "start_time": "2024-04-17T22:41:20.626275Z"
    }
   },
   "outputs": [
    {
     "name": "stdout",
     "output_type": "stream",
     "text": [
      "PointCloud with 401432 points.\n",
      "[[-0.94697094 -0.28343397 -0.1898073 ]\n",
      " [-0.90509593 -0.26843399 -0.1585573 ]\n",
      " [-0.9113459  -0.00718397 -0.00730729]\n",
      " ...\n",
      " [ 1.04740405 -0.22780895 -0.21793228]\n",
      " [ 0.91927898 -0.40780896 -0.24230728]\n",
      " [ 1.58615398  0.13906604 -0.40105727]]\n",
      "\u001B[1;33m[Open3D WARNING] GLFW Error: Cocoa: Failed to find service port for display\u001B[0;m\n",
      "\u001B[1;33m[Open3D WARNING] GLFW Error: Cocoa: Failed to find service port for display\u001B[0;m\n"
     ]
    }
   ],
   "source": [
    "print(pcd)\n",
    "print(np.asarray(pcd.points))\n",
    "# o3d.visualization.draw_geometries([pcd],\n",
    "#                                   zoom=0.3412,\n",
    "#                                   front=[0.4257, -0.2125, -0.8795],\n",
    "#                                   lookat=[2.6172, 2.0475, 1.532],\n",
    "#                                   up=[-0.0694, -0.9768, 0.2024])\n",
    "o3d.visualization.draw_geometries([pcd])"
   ]
  },
  {
   "cell_type": "code",
   "execution_count": null,
   "outputs": [],
   "source": [
    "# Estimate normals for the point cloud\n",
    "pcd.estimate_normals()\n",
    "\n",
    "# Create a mesh from the point cloud\n",
    "mesh, densities = o3d.geometry.TriangleMesh.create_from_point_cloud_poisson(pcd, depth=9)\n",
    "\n",
    "# Alternatively, you can create a mesh using Ball Pivoting algorithm\n",
    "# mesh, densities = o3d.geometry.TriangleMesh.create_from_point_cloud_ball_pivoting(pcd, o3d.utility.DoubleVector([0.01, 0.02]))\n",
    "\n",
    "# Visualize the result\n",
    "o3d.visualization.draw_geometries([mesh])"
   ],
   "metadata": {
    "collapsed": false,
    "is_executing": true
   }
  },
  {
   "cell_type": "markdown",
   "id": "6473d04e-c3ea-4af7-9c90-1a2fad4c5d23",
   "metadata": {},
   "source": [
    "### Downspamle"
   ]
  },
  {
   "cell_type": "code",
   "execution_count": 8,
   "id": "8d41671e-7abf-4776-bd93-e9fd865cf2d7",
   "metadata": {
    "ExecuteTime": {
     "end_time": "2024-04-17T22:35:14.279181Z",
     "start_time": "2024-04-17T22:35:14.274269Z"
    }
   },
   "outputs": [
    {
     "name": "stdout",
     "output_type": "stream",
     "text": [
      "Downsample the point cloud with a voxel of 0.05\n",
      "\u001B[1;33m[Open3D WARNING] GLFW Error: Cocoa: Failed to find service port for display\u001B[0;m\n",
      "\u001B[1;33m[Open3D WARNING] GLFW Error: Cocoa: Failed to find service port for display\u001B[0;m\n"
     ]
    }
   ],
   "source": [
    "print(\"Downsample the point cloud with a voxel of 0.05\")\n",
    "downpcd = pcd.voxel_down_sample(voxel_size=0.01)\n",
    "o3d.visualization.draw_geometries([downpcd],\n",
    "                                  zoom=0.3412,\n",
    "                                  front=[0.4257, -0.2125, -0.8795],\n",
    "                                  lookat=[2.6172, 2.0475, 1.532],\n",
    "                                  up=[-0.0694, -0.9768, 0.2024])"
   ]
  },
  {
   "cell_type": "code",
   "execution_count": 67,
   "id": "9f4097cb-7f85-45a4-aa1d-796ead0eb71a",
   "metadata": {},
   "outputs": [
    {
     "name": "stdout",
     "output_type": "stream",
     "text": [
      "Every 5th points are selected\n",
      "\u001B[1;33m[Open3D WARNING] GLFW Error: Cocoa: Failed to find service port for display\u001B[0;m\n",
      "\u001B[1;33m[Open3D WARNING] GLFW Error: Cocoa: Failed to find service port for display\u001B[0;m\n"
     ]
    }
   ],
   "source": [
    "print(\"Every 5th points are selected\")\n",
    "uni_down_pcd = pcd.uniform_down_sample(every_k_points=5)\n",
    "o3d.visualization.draw_geometries([uni_down_pcd],\n",
    "                                  zoom=0.3412,\n",
    "                                  front=[0.4257, -0.2125, -0.8795],\n",
    "                                  lookat=[2.6172, 2.0475, 1.532],\n",
    "                                  up=[-0.0694, -0.9768, 0.2024])"
   ]
  },
  {
   "cell_type": "markdown",
   "id": "e95312ed-55c1-4c9e-acf0-8ed54fb51be2",
   "metadata": {},
   "source": [
    "### Normals of points"
   ]
  },
  {
   "cell_type": "code",
   "execution_count": 9,
   "id": "70db1709-253e-415f-afd5-3626fca3003a",
   "metadata": {
    "ExecuteTime": {
     "end_time": "2024-04-17T22:35:26.412337Z",
     "start_time": "2024-04-17T22:35:26.408113Z"
    }
   },
   "outputs": [
    {
     "name": "stdout",
     "output_type": "stream",
     "text": [
      "Recompute the normal of the downsampled point cloud\n",
      "\u001B[1;33m[Open3D WARNING] GLFW Error: Cocoa: Failed to find service port for display\u001B[0;m\n",
      "\u001B[1;33m[Open3D WARNING] GLFW Error: Cocoa: Failed to find service port for display\u001B[0;m\n"
     ]
    }
   ],
   "source": [
    "print(\"Recompute the normal of the downsampled point cloud\")\n",
    "downpcd.estimate_normals(\n",
    "    search_param=o3d.geometry.KDTreeSearchParamHybrid(radius=0.1, max_nn=30))\n",
    "o3d.visualization.draw_geometries([downpcd],\n",
    "                                  zoom=0.3412,\n",
    "                                  front=[0.4257, -0.2125, -0.8795],\n",
    "                                  lookat=[2.6172, 2.0475, 1.532],\n",
    "                                  up=[-0.0694, -0.9768, 0.2024],\n",
    "                                  point_show_normal=True)"
   ]
  },
  {
   "cell_type": "code",
   "execution_count": 13,
   "id": "4dd65253-9e40-4d02-b32c-7f2d957f90be",
   "metadata": {},
   "outputs": [
    {
     "name": "stdout",
     "output_type": "stream",
     "text": [
      "Print a normal vector of the 0th point\n",
      "[-0.00957325 -0.99845908 -0.0340557 ]\n"
     ]
    }
   ],
   "source": [
    "print(\"Print a normal vector of the 0th point\")\n",
    "print(downpcd.normals[0])"
   ]
  },
  {
   "cell_type": "markdown",
   "id": "50f66a6f-40a8-41f9-b06f-6c608ed35b2a",
   "metadata": {},
   "source": [
    "### Crop"
   ]
  },
  {
   "cell_type": "code",
   "execution_count": 10,
   "id": "1eed69e0-0bf0-4cfe-b57b-5b46fbfb5256",
   "metadata": {
    "ExecuteTime": {
     "end_time": "2024-04-17T22:35:32.391693Z",
     "start_time": "2024-04-17T22:35:32.388644Z"
    }
   },
   "outputs": [
    {
     "name": "stdout",
     "output_type": "stream",
     "text": [
      "Load a polygon volume and use it to crop the original point cloud\n",
      "\u001B[1;33m[Open3D WARNING] Read JSON failed: unable to open file: ../_data/point_cloud/cropped.json\u001B[0;m\n",
      "\u001B[1;33m[Open3D WARNING] GLFW Error: Cocoa: Failed to find service port for display\u001B[0;m\n",
      "\u001B[1;33m[Open3D WARNING] GLFW Error: Cocoa: Failed to find service port for display\u001B[0;m\n"
     ]
    }
   ],
   "source": [
    "print(\"Load a polygon volume and use it to crop the original point cloud\")\n",
    "vol = o3d.visualization.read_selection_polygon_volume(\n",
    "    \"../_data/point_cloud/cropped.json\")\n",
    "chair = vol.crop_point_cloud(pcd)\n",
    "o3d.visualization.draw_geometries([chair],\n",
    "                                  zoom=0.7,\n",
    "                                  front=[0.5439, -0.2333, -0.8060],\n",
    "                                  lookat=[2.4615, 2.1331, 1.338],\n",
    "                                  up=[-0.1781, -0.9708, 0.1608])"
   ]
  },
  {
   "cell_type": "markdown",
   "id": "faa8eb4c-d1d3-4fc6-93cb-ec6926cbeec5",
   "metadata": {},
   "source": [
    "### Clustering"
   ]
  },
  {
   "cell_type": "code",
   "execution_count": 11,
   "id": "02f2979f-9952-4524-af5c-798c37df115f",
   "metadata": {
    "ExecuteTime": {
     "end_time": "2024-04-17T22:35:35.562417Z",
     "start_time": "2024-04-17T22:35:35.559918Z"
    }
   },
   "outputs": [
    {
     "name": "stdout",
     "output_type": "stream",
     "text": [
      "[Open3D DEBUG] Precompute neighbors.\n",
      "[Open3D DEBUG] Done Precompute neighbors.                     ] 2%\n",
      "[Open3D DEBUG] Compute Clusters\n",
      "Precompute neighbors.[================>           [Open3D DEBUG] Done Compute Clusters: 29\n",
      "Precompute neighbors.[========================================] 100%\n",
      "Clustering[==================================>     ] 85%\r"
     ]
    }
   ],
   "source": [
    "with o3d.utility.VerbosityContextManager(\n",
    "        o3d.utility.VerbosityLevel.Debug) as cm:\n",
    "    labels = np.array(\n",
    "        pcd.cluster_dbscan(eps=0.027, min_points=50, print_progress=True))"
   ]
  },
  {
   "cell_type": "code",
   "execution_count": 12,
   "id": "d7a9b513-a025-4f9f-9510-24a36897447e",
   "metadata": {
    "ExecuteTime": {
     "end_time": "2024-04-17T22:35:41.984813Z",
     "start_time": "2024-04-17T22:35:37.244275Z"
    }
   },
   "outputs": [
    {
     "name": "stdout",
     "output_type": "stream",
     "text": [
      "point cloud has 29 clusters\n",
      "\u001B[1;33m[Open3D WARNING] GLFW Error: Cocoa: Failed to find service port for display\u001B[0;m\n",
      "\u001B[1;33m[Open3D WARNING] GLFW Error: Cocoa: Failed to find service port for display\u001B[0;m\n"
     ]
    }
   ],
   "source": [
    "max_label = labels.max()\n",
    "print(f\"point cloud has {max_label + 1} clusters\")\n",
    "colors = plt.get_cmap(\"tab20\")(labels / (max_label if max_label > 0 else 1))\n",
    "colors[labels < 0] = 0\n",
    "pcd.colors = o3d.utility.Vector3dVector(colors[:, :3])\n",
    "o3d.visualization.draw_geometries([pcd],\n",
    "                                  zoom=0.455,\n",
    "                                  front=[-0.4999, -0.1659, -0.8499],\n",
    "                                  lookat=[2.1813, 2.0619, 2.0999],\n",
    "                                  up=[0.1204, -0.9852, 0.1215])"
   ]
  },
  {
   "cell_type": "markdown",
   "id": "cc3bfe0c-f937-470c-bdfe-2c3c8bc98366",
   "metadata": {},
   "source": [
    "### Filtering - outlier removal"
   ]
  },
  {
   "cell_type": "code",
   "execution_count": 13,
   "id": "a76a93a3-023b-4cc0-8be8-ae889e678eb2",
   "metadata": {
    "ExecuteTime": {
     "end_time": "2024-04-17T22:35:43.987183Z",
     "start_time": "2024-04-17T22:35:43.981995Z"
    }
   },
   "outputs": [],
   "source": [
    "def display_inlier_outlier(cloud, ind):\n",
    "    inlier_cloud = cloud.select_by_index(ind)\n",
    "    outlier_cloud = cloud.select_by_index(ind, invert=True)\n",
    "\n",
    "    print(\"Showing outliers (red) and inliers (gray): \")\n",
    "    outlier_cloud.paint_uniform_color([1, 0, 0])\n",
    "    inlier_cloud.paint_uniform_color([0.8, 0.8, 0.8])\n",
    "    o3d.visualization.draw_geometries([inlier_cloud, outlier_cloud],\n",
    "                                      zoom=0.3412,\n",
    "                                      front=[0.4257, -0.2125, -0.8795],\n",
    "                                      lookat=[2.6172, 2.0475, 1.532],\n",
    "                                      up=[-0.0694, -0.9768, 0.2024])"
   ]
  },
  {
   "cell_type": "code",
   "execution_count": 14,
   "id": "351deab2-9a19-41b4-a5d6-4773af32e075",
   "metadata": {
    "ExecuteTime": {
     "end_time": "2024-04-17T22:35:47.292923Z",
     "start_time": "2024-04-17T22:35:47.289813Z"
    }
   },
   "outputs": [
    {
     "name": "stdout",
     "output_type": "stream",
     "text": [
      "Statistical oulier removal\n",
      "Showing outliers (red) and inliers (gray): \n",
      "\u001B[1;33m[Open3D WARNING] GLFW Error: Cocoa: Failed to find service port for display\u001B[0;m\n",
      "\u001B[1;33m[Open3D WARNING] GLFW Error: Cocoa: Failed to find service port for display\u001B[0;m\n"
     ]
    }
   ],
   "source": [
    "print(\"Statistical oulier removal\")\n",
    "cl, ind = downpcd.remove_statistical_outlier(nb_neighbors=30, std_ratio=1.0)\n",
    "display_inlier_outlier(downpcd, ind)"
   ]
  },
  {
   "cell_type": "code",
   "execution_count": 15,
   "id": "3f248f44-5ef7-47cd-b1b2-f251b69247ad",
   "metadata": {
    "ExecuteTime": {
     "end_time": "2024-04-17T22:35:53.609221Z",
     "start_time": "2024-04-17T22:35:53.604405Z"
    }
   },
   "outputs": [
    {
     "name": "stdout",
     "output_type": "stream",
     "text": [
      "Radius oulier removal\n",
      "Showing outliers (red) and inliers (gray): \n",
      "\u001B[1;33m[Open3D WARNING] GLFW Error: Cocoa: Failed to find service port for display\u001B[0;m\n",
      "\u001B[1;33m[Open3D WARNING] GLFW Error: Cocoa: Failed to find service port for display\u001B[0;m\n"
     ]
    }
   ],
   "source": [
    "print(\"Radius oulier removal\")\n",
    "cl, ind = downpcd.remove_radius_outlier(nb_points=20, radius=0.03)\n",
    "display_inlier_outlier(downpcd, ind)"
   ]
  },
  {
   "cell_type": "code",
   "execution_count": 58,
   "id": "2f6c3a0f-c433-4eb3-ac70-600bf64afbef",
   "metadata": {},
   "outputs": [],
   "source": [
    "### Distance crop"
   ]
  },
  {
   "cell_type": "code",
   "execution_count": 16,
   "id": "78e25eef-3b55-4e89-9b63-f1920b958d1d",
   "metadata": {
    "ExecuteTime": {
     "end_time": "2024-04-17T22:36:01.893342Z",
     "start_time": "2024-04-17T22:36:01.892015Z"
    }
   },
   "outputs": [
    {
     "name": "stdout",
     "output_type": "stream",
     "text": [
      "\u001B[1;33m[Open3D WARNING] [KDTreeFlann::SetRawData] Failed due to no data.\u001B[0;m\n",
      "\u001B[1;33m[Open3D WARNING] GLFW Error: Cocoa: Failed to find service port for display\u001B[0;m\n",
      "\u001B[1;33m[Open3D WARNING] GLFW Error: Cocoa: Failed to find service port for display\u001B[0;m\n"
     ]
    }
   ],
   "source": [
    "# demo_crop_data = o3d.data.DemoCropPointCloud()\n",
    "# pcd = o3d.io.read_point_cloud(demo_crop_data.point_cloud_path)\n",
    "# vol = o3d.visualization.read_selection_polygon_volume(demo_crop_data.cropped_json_path)\n",
    "# chair = vol.crop_point_cloud(pcd)\n",
    "\n",
    "dists = pcd.compute_point_cloud_distance(chair)\n",
    "dists = np.asarray(dists)\n",
    "ind = np.where(dists > 0.2)[0]\n",
    "pcd_without_chair = pcd.select_by_index(ind)\n",
    "o3d.visualization.draw_geometries([pcd_without_chair],\n",
    "                                  zoom=0.3412,\n",
    "                                  front=[0.4257, -0.2125, -0.8795],\n",
    "                                  lookat=[2.6172, 2.0475, 1.532],\n",
    "                                  up=[-0.0694, -0.9768, 0.2024])"
   ]
  },
  {
   "cell_type": "code",
   "execution_count": null,
   "id": "b437b339-fe8f-4822-afd8-05bcdcd876fa",
   "metadata": {},
   "outputs": [],
   "source": []
  }
 ],
 "metadata": {
  "kernelspec": {
   "display_name": "Python 3 (ipykernel)",
   "language": "python",
   "name": "python3"
  },
  "language_info": {
   "codemirror_mode": {
    "name": "ipython",
    "version": 3
   },
   "file_extension": ".py",
   "mimetype": "text/x-python",
   "name": "python",
   "nbconvert_exporter": "python",
   "pygments_lexer": "ipython3",
   "version": "3.9.16"
  }
 },
 "nbformat": 4,
 "nbformat_minor": 5
}
