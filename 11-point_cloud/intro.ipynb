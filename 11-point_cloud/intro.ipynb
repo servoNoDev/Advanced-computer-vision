{
 "cells": [
  {
   "cell_type": "markdown",
   "id": "fc332bd1-4df0-448d-a001-01c5adde5b2f",
   "metadata": {},
   "source": [
    "# Point cloud "
   ]
  },
  {
   "cell_type": "code",
   "execution_count": 3,
   "id": "5fbfc29e-6fb6-442b-9aa8-bdfaffda89d5",
   "metadata": {
    "ExecuteTime": {
     "end_time": "2024-04-17T22:29:11.100364Z",
     "start_time": "2024-04-17T22:29:11.087669Z"
    }
   },
   "outputs": [],
   "source": [
    "import laspy\n",
    "import scipy\n",
    "import numpy as np\n",
    "import matplotlib.pyplot as plt\n",
    "import open3d as o3d"
   ]
  },
  {
   "cell_type": "markdown",
   "id": "6f6ec3cb-068e-4ab8-a4de-b279574c27b7",
   "metadata": {},
   "source": [
    "## Load point cloud"
   ]
  },
  {
   "cell_type": "code",
   "execution_count": 4,
   "id": "c8611def-fda7-4349-9a29-53b022fce78f",
   "metadata": {
    "ExecuteTime": {
     "end_time": "2024-04-17T22:29:11.546867Z",
     "start_time": "2024-04-17T22:29:11.476238Z"
    }
   },
   "outputs": [],
   "source": [
    "point_cloud = laspy.read(\"../_data/point_cloud/20180912_SN0330_FN0088_01.las\")"
   ]
  },
  {
   "cell_type": "code",
   "execution_count": 5,
   "id": "3942ad4e-8dd7-458d-9242-b7441d92ef7a",
   "metadata": {
    "ExecuteTime": {
     "end_time": "2024-04-17T22:29:11.851069Z",
     "start_time": "2024-04-17T22:29:11.805599Z"
    }
   },
   "outputs": [],
   "source": [
    "# Cast to numpy\n",
    "points = np.vstack((point_cloud.x, point_cloud.y, point_cloud.z)).transpose()"
   ]
  },
  {
   "cell_type": "code",
   "execution_count": 6,
   "id": "382dea3a-1274-4b6e-a911-0d1041d73c80",
   "metadata": {
    "ExecuteTime": {
     "end_time": "2024-04-17T22:29:12.168715Z",
     "start_time": "2024-04-17T22:29:12.163113Z"
    }
   },
   "outputs": [
    {
     "data": {
      "text/plain": "(2392722, 3)"
     },
     "execution_count": 6,
     "metadata": {},
     "output_type": "execute_result"
    }
   ],
   "source": [
    "points.shape"
   ]
  },
  {
   "cell_type": "code",
   "execution_count": 7,
   "id": "69d01310-cab7-4dbd-a18a-051398fa30d8",
   "metadata": {
    "ExecuteTime": {
     "end_time": "2024-04-17T22:29:12.569172Z",
     "start_time": "2024-04-17T22:29:12.565196Z"
    }
   },
   "outputs": [
    {
     "data": {
      "text/plain": "array([5.20827903e+05, 5.41956772e+06, 4.10562919e+02])"
     },
     "execution_count": 7,
     "metadata": {},
     "output_type": "execute_result"
    }
   ],
   "source": [
    "# Coordinates X, Y, Z\n",
    "points[0]"
   ]
  },
  {
   "cell_type": "code",
   "execution_count": 8,
   "id": "ca0c80d9-e85e-44c4-9930-2668729c9169",
   "metadata": {
    "ExecuteTime": {
     "end_time": "2024-04-17T22:29:14.415211Z",
     "start_time": "2024-04-17T22:29:13.493090Z"
    }
   },
   "outputs": [],
   "source": [
    "pcd = o3d.geometry.PointCloud()\n",
    "pcd.points = o3d.utility.Vector3dVector(points)"
   ]
  },
  {
   "cell_type": "code",
   "execution_count": 7,
   "id": "b4199bac-d1c1-4b06-a87d-291cd8e14fd1",
   "metadata": {
    "ExecuteTime": {
     "end_time": "2024-04-17T22:25:42.088856Z",
     "start_time": "2024-04-17T22:25:42.079769Z"
    }
   },
   "outputs": [
    {
     "name": "stdout",
     "output_type": "stream",
     "text": [
      "\u001B[1;33m[Open3D WARNING] GLFW Error: Cocoa: Failed to find service port for display\u001B[0;m\n",
      "\u001B[1;33m[Open3D WARNING] GLFW Error: Cocoa: Failed to find service port for display\u001B[0;m\n"
     ]
    }
   ],
   "source": [
    "o3d.visualization.draw_geometries([pcd])"
   ]
  },
  {
   "cell_type": "markdown",
   "id": "075b1e8a-6775-476f-8319-095aa4b1aeea",
   "metadata": {},
   "source": [
    "## Decrease \"resolution\"\n"
   ]
  },
  {
   "cell_type": "code",
   "execution_count": 8,
   "id": "b3ddb150-6208-47e2-b25a-a87376ad6abf",
   "metadata": {
    "ExecuteTime": {
     "end_time": "2024-04-17T22:08:02.894492Z",
     "start_time": "2024-04-17T22:08:02.891165Z"
    }
   },
   "outputs": [
    {
     "name": "stdout",
     "output_type": "stream",
     "text": [
      "Number of RAW poinst : (2392722, 3)\n",
      "Number of noRAW poinst: (239273, 3)\n"
     ]
    }
   ],
   "source": [
    "# Select every n (10) points\n",
    "factor=10\n",
    "decimated_points_random = points[::factor]\n",
    "print(\"Number of RAW poinst : {pn}\".format(pn=str(points.shape)))\n",
    "print(\"Number of noRAW poinst: {pn}\".format(pn=str(decimated_points_random.shape)))"
   ]
  },
  {
   "cell_type": "code",
   "execution_count": 9,
   "id": "a1570046-86bc-4fcf-9b56-cb6c67253aee",
   "metadata": {
    "ExecuteTime": {
     "end_time": "2024-04-17T22:08:19.380957Z",
     "start_time": "2024-04-17T22:08:05.240078Z"
    }
   },
   "outputs": [
    {
     "name": "stdout",
     "output_type": "stream",
     "text": [
      "\u001B[1;33m[Open3D WARNING] GLFW Error: Cocoa: Failed to find service port for display\u001B[0;m\n",
      "\u001B[1;33m[Open3D WARNING] GLFW Error: Cocoa: Failed to find service port for display\u001B[0;m\n"
     ]
    }
   ],
   "source": [
    "pcd = o3d.geometry.PointCloud()\n",
    "pcd.points = o3d.utility.Vector3dVector(decimated_points_random)\n",
    "o3d.visualization.draw_geometries([pcd])"
   ]
  },
  {
   "cell_type": "markdown",
   "id": "1e116f8f-d3dd-405e-bda3-e8df756693c2",
   "metadata": {},
   "source": [
    "## Select/filter specify area"
   ]
  },
  {
   "cell_type": "code",
   "execution_count": 10,
   "id": "619a4cc9-43b9-4bb9-9d17-bffebe8ce0b2",
   "metadata": {
    "ExecuteTime": {
     "end_time": "2024-04-17T22:08:25.705649Z",
     "start_time": "2024-04-17T22:08:25.694927Z"
    }
   },
   "outputs": [
    {
     "data": {
      "text/plain": "[DimensionInfo(name='X', kind=<DimensionKind.SignedInteger: 0>, num_bits=32, num_elements=1, is_standard=True, description='', offsets=None, scales=None),\n DimensionInfo(name='Y', kind=<DimensionKind.SignedInteger: 0>, num_bits=32, num_elements=1, is_standard=True, description='', offsets=None, scales=None),\n DimensionInfo(name='Z', kind=<DimensionKind.SignedInteger: 0>, num_bits=32, num_elements=1, is_standard=True, description='', offsets=None, scales=None),\n DimensionInfo(name='intensity', kind=<DimensionKind.UnsignedInteger: 1>, num_bits=16, num_elements=1, is_standard=True, description='', offsets=None, scales=None),\n DimensionInfo(name='return_number', kind=<DimensionKind.BitField: 3>, num_bits=3, num_elements=1, is_standard=True, description='', offsets=None, scales=None),\n DimensionInfo(name='number_of_returns', kind=<DimensionKind.BitField: 3>, num_bits=3, num_elements=1, is_standard=True, description='', offsets=None, scales=None),\n DimensionInfo(name='scan_direction_flag', kind=<DimensionKind.BitField: 3>, num_bits=1, num_elements=1, is_standard=True, description='', offsets=None, scales=None),\n DimensionInfo(name='edge_of_flight_line', kind=<DimensionKind.BitField: 3>, num_bits=1, num_elements=1, is_standard=True, description='', offsets=None, scales=None),\n DimensionInfo(name='classification', kind=<DimensionKind.BitField: 3>, num_bits=5, num_elements=1, is_standard=True, description='', offsets=None, scales=None),\n DimensionInfo(name='synthetic', kind=<DimensionKind.BitField: 3>, num_bits=1, num_elements=1, is_standard=True, description='', offsets=None, scales=None),\n DimensionInfo(name='key_point', kind=<DimensionKind.BitField: 3>, num_bits=1, num_elements=1, is_standard=True, description='', offsets=None, scales=None),\n DimensionInfo(name='withheld', kind=<DimensionKind.BitField: 3>, num_bits=1, num_elements=1, is_standard=True, description='', offsets=None, scales=None),\n DimensionInfo(name='scan_angle_rank', kind=<DimensionKind.SignedInteger: 0>, num_bits=8, num_elements=1, is_standard=True, description='', offsets=None, scales=None),\n DimensionInfo(name='user_data', kind=<DimensionKind.UnsignedInteger: 1>, num_bits=8, num_elements=1, is_standard=True, description='', offsets=None, scales=None),\n DimensionInfo(name='point_source_id', kind=<DimensionKind.UnsignedInteger: 1>, num_bits=16, num_elements=1, is_standard=True, description='', offsets=None, scales=None),\n DimensionInfo(name='gps_time', kind=<DimensionKind.FloatingPoint: 2>, num_bits=64, num_elements=1, is_standard=True, description='', offsets=None, scales=None),\n DimensionInfo(name='red', kind=<DimensionKind.UnsignedInteger: 1>, num_bits=16, num_elements=1, is_standard=True, description='', offsets=None, scales=None),\n DimensionInfo(name='green', kind=<DimensionKind.UnsignedInteger: 1>, num_bits=16, num_elements=1, is_standard=True, description='', offsets=None, scales=None),\n DimensionInfo(name='blue', kind=<DimensionKind.UnsignedInteger: 1>, num_bits=16, num_elements=1, is_standard=True, description='', offsets=None, scales=None)]"
     },
     "execution_count": 10,
     "metadata": {},
     "output_type": "execute_result"
    }
   ],
   "source": [
    "list(point_cloud.point_format)"
   ]
  },
  {
   "cell_type": "markdown",
   "id": "52949812-76e9-40e0-b5cd-0740b10bc493",
   "metadata": {},
   "source": [
    "### From array"
   ]
  },
  {
   "cell_type": "code",
   "execution_count": 11,
   "id": "7257efda-5a5a-4127-a864-4fcf1393d7b0",
   "metadata": {
    "ExecuteTime": {
     "end_time": "2024-04-17T22:09:57.899955Z",
     "start_time": "2024-04-17T22:08:54.818757Z"
    }
   },
   "outputs": [
    {
     "name": "stdout",
     "output_type": "stream",
     "text": [
      "\u001B[1;33m[Open3D WARNING] GLFW Error: Cocoa: Failed to find service port for display\u001B[0;m\n",
      "\u001B[1;33m[Open3D WARNING] GLFW Error: Cocoa: Failed to find service port for display\u001B[0;m\n"
     ]
    },
    {
     "ename": "KeyboardInterrupt",
     "evalue": "",
     "output_type": "error",
     "traceback": [
      "\u001B[0;31m---------------------------------------------------------------------------\u001B[0m",
      "\u001B[0;31mKeyboardInterrupt\u001B[0m                         Traceback (most recent call last)",
      "Cell \u001B[0;32mIn[11], line 3\u001B[0m\n\u001B[1;32m      1\u001B[0m pcd \u001B[38;5;241m=\u001B[39m o3d\u001B[38;5;241m.\u001B[39mgeometry\u001B[38;5;241m.\u001B[39mPointCloud()\n\u001B[1;32m      2\u001B[0m pcd\u001B[38;5;241m.\u001B[39mpoints \u001B[38;5;241m=\u001B[39m o3d\u001B[38;5;241m.\u001B[39mutility\u001B[38;5;241m.\u001B[39mVector3dVector(points[:\u001B[38;5;241m150000\u001B[39m])\n\u001B[0;32m----> 3\u001B[0m \u001B[43mo3d\u001B[49m\u001B[38;5;241;43m.\u001B[39;49m\u001B[43mvisualization\u001B[49m\u001B[38;5;241;43m.\u001B[39;49m\u001B[43mdraw_geometries\u001B[49m\u001B[43m(\u001B[49m\u001B[43m[\u001B[49m\u001B[43mpcd\u001B[49m\u001B[43m]\u001B[49m\u001B[43m)\u001B[49m\n",
      "\u001B[0;31mKeyboardInterrupt\u001B[0m: "
     ]
    }
   ],
   "source": [
    "pcd = o3d.geometry.PointCloud()\n",
    "pcd.points = o3d.utility.Vector3dVector(points[:150000])\n",
    "o3d.visualization.draw_geometries([pcd])"
   ]
  },
  {
   "cell_type": "markdown",
   "id": "c9213642-3e59-4a95-9587-25600835dd5e",
   "metadata": {},
   "source": [
    "### By elevation"
   ]
  },
  {
   "cell_type": "code",
   "execution_count": 12,
   "id": "05012893-0f3e-4835-86e9-eda32b10db42",
   "metadata": {
    "ExecuteTime": {
     "end_time": "2024-04-17T22:10:10.486431Z",
     "start_time": "2024-04-17T22:10:03.725539Z"
    }
   },
   "outputs": [
    {
     "name": "stdout",
     "output_type": "stream",
     "text": [
      "\u001B[1;33m[Open3D WARNING] GLFW Error: Cocoa: Failed to find service port for display\u001B[0;m\n",
      "\u001B[1;33m[Open3D WARNING] GLFW Error: Cocoa: Failed to find service port for display\u001B[0;m\n"
     ]
    }
   ],
   "source": [
    "points_cut = points[:150000]\n",
    "points_cut = points_cut[points_cut[:,2] > 400]\n",
    "pcd = o3d.geometry.PointCloud()\n",
    "pcd.points = o3d.utility.Vector3dVector(points_cut)\n",
    "o3d.visualization.draw_geometries([pcd])"
   ]
  },
  {
   "cell_type": "markdown",
   "id": "b6cebf5c-765a-48a9-b65e-41bec7a59587",
   "metadata": {},
   "source": [
    "### By ..."
   ]
  },
  {
   "cell_type": "code",
   "execution_count": 13,
   "id": "bc634306-b7c0-4412-a826-ee1cb503eaa5",
   "metadata": {
    "ExecuteTime": {
     "end_time": "2024-04-17T22:10:24.287331Z",
     "start_time": "2024-04-17T22:10:13.315375Z"
    }
   },
   "outputs": [
    {
     "name": "stdout",
     "output_type": "stream",
     "text": [
      "\u001B[1;33m[Open3D WARNING] GLFW Error: Cocoa: Failed to find service port for display\u001B[0;m\n",
      "\u001B[1;33m[Open3D WARNING] GLFW Error: Cocoa: Failed to find service port for display\u001B[0;m\n"
     ]
    }
   ],
   "source": [
    "# points_cut = points[:150000]\n",
    "\n",
    "slicer_0 = (max(points_cut[:,0]) + min(points_cut[:,0]))/2\n",
    "points_cut = points_cut[points_cut[:,0] > slicer_0]\n",
    "\n",
    "pcd = o3d.geometry.PointCloud()\n",
    "pcd.points = o3d.utility.Vector3dVector(points_cut)\n",
    "o3d.visualization.draw_geometries([pcd])"
   ]
  },
  {
   "cell_type": "markdown",
   "id": "45b206c2-8af3-4835-8e46-9e01dbaed49f",
   "metadata": {},
   "source": [
    "### By time"
   ]
  },
  {
   "cell_type": "code",
   "execution_count": 19,
   "id": "8f9cd952-59a6-45a2-9342-320242bec7cf",
   "metadata": {
    "ExecuteTime": {
     "end_time": "2024-04-17T22:15:28.187188Z",
     "start_time": "2024-04-17T22:15:28.184017Z"
    }
   },
   "outputs": [
    {
     "name": "stdout",
     "output_type": "stream",
     "text": [
      "1536741736.201407\n",
      "1536741844.9271975\n"
     ]
    }
   ],
   "source": [
    "print(min(point_cloud.gps_time))\n",
    "print(max(point_cloud.gps_time))"
   ]
  },
  {
   "cell_type": "code",
   "execution_count": 28,
   "id": "38957e8a-3681-41f1-9936-d7667bf3454e",
   "metadata": {
    "ExecuteTime": {
     "end_time": "2024-04-17T22:16:32.694459Z",
     "start_time": "2024-04-17T22:16:32.670596Z"
    }
   },
   "outputs": [],
   "source": [
    "slicer_t = 1536741736 + 20\n",
    "points_cut = points[point_cloud.gps_time < slicer_t]"
   ]
  },
  {
   "cell_type": "code",
   "execution_count": 28,
   "id": "ad01062f-89e4-458e-8036-0b0a78511d81",
   "metadata": {
    "ExecuteTime": {
     "end_time": "2024-04-17T22:16:32.995394Z",
     "start_time": "2024-04-17T22:16:32.990801Z"
    }
   },
   "outputs": [],
   "source": []
  },
  {
   "cell_type": "code",
   "execution_count": 29,
   "outputs": [
    {
     "name": "stdout",
     "output_type": "stream",
     "text": [
      "\u001B[1;33m[Open3D WARNING] GLFW Error: Cocoa: Failed to find service port for display\u001B[0;m\n",
      "\u001B[1;33m[Open3D WARNING] GLFW Error: Cocoa: Failed to find service port for display\u001B[0;m\n"
     ]
    }
   ],
   "source": [
    "pcd = o3d.geometry.PointCloud()\n",
    "pcd.points = o3d.utility.Vector3dVector(points_cut)\n",
    "o3d.visualization.draw_geometries([pcd])"
   ],
   "metadata": {
    "collapsed": false,
    "ExecuteTime": {
     "end_time": "2024-04-17T22:16:37.048695Z",
     "start_time": "2024-04-17T22:16:33.222720Z"
    }
   }
  },
  {
   "cell_type": "markdown",
   "source": [
    "### By return number"
   ],
   "metadata": {
    "collapsed": false
   }
  },
  {
   "cell_type": "code",
   "execution_count": 30,
   "id": "154e0c05-6b39-4489-9ebe-e4e57d9fdffe",
   "metadata": {
    "ExecuteTime": {
     "end_time": "2024-04-17T22:16:53.568066Z",
     "start_time": "2024-04-17T22:16:42.503027Z"
    }
   },
   "outputs": [
    {
     "name": "stdout",
     "output_type": "stream",
     "text": [
      "dict_keys([1, 2, 3])\n",
      "dict_values([1940823, 387851, 64048])\n"
     ]
    }
   ],
   "source": [
    "from collections import Counter\n",
    "print(Counter(point_cloud.return_number).keys()) # equals to list(set(words))\n",
    "print(Counter(point_cloud.return_number).values()) # counts the elements' frequency"
   ]
  },
  {
   "cell_type": "code",
   "execution_count": 31,
   "id": "cbead225-5581-450a-b092-0febd95a6944",
   "metadata": {
    "ExecuteTime": {
     "end_time": "2024-04-17T22:17:29.582053Z",
     "start_time": "2024-04-17T22:16:59.443155Z"
    }
   },
   "outputs": [
    {
     "name": "stdout",
     "output_type": "stream",
     "text": [
      "\u001B[1;33m[Open3D WARNING] GLFW Error: Cocoa: Failed to find service port for display\u001B[0;m\n",
      "\u001B[1;33m[Open3D WARNING] GLFW Error: Cocoa: Failed to find service port for display\u001B[0;m\n"
     ]
    }
   ],
   "source": [
    "pcd = o3d.geometry.PointCloud()\n",
    "pcd.points = o3d.utility.Vector3dVector(points[point_cloud.return_number == 1])\n",
    "o3d.visualization.draw_geometries([pcd])"
   ]
  },
  {
   "cell_type": "code",
   "execution_count": 32,
   "id": "5768e553-4b47-48b5-81c7-bd750c9d7f01",
   "metadata": {
    "ExecuteTime": {
     "end_time": "2024-04-17T22:17:52.345755Z",
     "start_time": "2024-04-17T22:17:41.268080Z"
    }
   },
   "outputs": [
    {
     "name": "stdout",
     "output_type": "stream",
     "text": [
      "dict_keys([1, 2, 3])\n",
      "dict_values([1552986, 647594, 192142])\n"
     ]
    }
   ],
   "source": [
    "print(Counter(point_cloud.number_of_returns).keys()) # equals to list(set(words))\n",
    "print(Counter(point_cloud.number_of_returns).values()) # counts the elements' frequency"
   ]
  },
  {
   "cell_type": "code",
   "execution_count": 33,
   "id": "99dc9719-c7ae-47ca-b1dd-5e7240851a2e",
   "metadata": {
    "ExecuteTime": {
     "end_time": "2024-04-17T22:17:58.115675Z",
     "start_time": "2024-04-17T22:17:58.094670Z"
    }
   },
   "outputs": [
    {
     "data": {
      "text/plain": "(array([     60,      61,      62, ..., 2392489, 2392490, 2392491]),)"
     },
     "execution_count": 33,
     "metadata": {},
     "output_type": "execute_result"
    }
   ],
   "source": [
    "np.where(point_cloud.number_of_returns == 3)"
   ]
  },
  {
   "cell_type": "code",
   "execution_count": 34,
   "id": "2492028e-fb59-49f7-a4b0-78f236526c48",
   "metadata": {
    "ExecuteTime": {
     "end_time": "2024-04-17T22:18:01.442672Z",
     "start_time": "2024-04-17T22:18:01.438258Z"
    }
   },
   "outputs": [
    {
     "name": "stdout",
     "output_type": "stream",
     "text": [
      "3\n",
      "2\n"
     ]
    }
   ],
   "source": [
    "point_number = 61\n",
    "print(point_cloud.number_of_returns[point_number])\n",
    "print(point_cloud.return_number[point_number])"
   ]
  },
  {
   "cell_type": "code",
   "execution_count": 35,
   "id": "3ee02f2e-9ceb-4b3c-b24e-8371a72f3ddb",
   "metadata": {
    "ExecuteTime": {
     "end_time": "2024-04-17T22:18:40.094957Z",
     "start_time": "2024-04-17T22:18:24.984075Z"
    }
   },
   "outputs": [
    {
     "name": "stdout",
     "output_type": "stream",
     "text": [
      "\u001B[1;33m[Open3D WARNING] GLFW Error: Cocoa: Failed to find service port for display\u001B[0;m\n",
      "\u001B[1;33m[Open3D WARNING] GLFW Error: Cocoa: Failed to find service port for display\u001B[0;m\n"
     ]
    }
   ],
   "source": [
    "pcd = o3d.geometry.PointCloud()\n",
    "pcd.points = o3d.utility.Vector3dVector(points[(point_cloud.return_number == 3)])\n",
    "o3d.visualization.draw_geometries([pcd])"
   ]
  },
  {
   "cell_type": "code",
   "execution_count": 36,
   "outputs": [
    {
     "name": "stdout",
     "output_type": "stream",
     "text": [
      "\u001B[1;33m[Open3D WARNING] GLFW Error: Cocoa: Failed to find service port for display\u001B[0;m\n",
      "\u001B[1;33m[Open3D WARNING] GLFW Error: Cocoa: Failed to find service port for display\u001B[0;m\n"
     ]
    }
   ],
   "source": [
    "# Without ground and cables\n",
    "pcd = o3d.geometry.PointCloud()\n",
    "pcd.points = o3d.utility.Vector3dVector(points[(point_cloud.number_of_returns == 3) & (point_cloud.return_number > 2)])\n",
    "o3d.visualization.draw_geometries([pcd])"
   ],
   "metadata": {
    "collapsed": false,
    "ExecuteTime": {
     "end_time": "2024-04-17T22:18:56.648417Z",
     "start_time": "2024-04-17T22:18:42.298223Z"
    }
   }
  },
  {
   "cell_type": "code",
   "execution_count": 40,
   "outputs": [
    {
     "name": "stdout",
     "output_type": "stream",
     "text": [
      "\u001B[1;33m[Open3D WARNING] GLFW Error: Cocoa: Failed to find service port for display\u001B[0;m\n",
      "\u001B[1;33m[Open3D WARNING] GLFW Error: Cocoa: Failed to find service port for display\u001B[0;m\n"
     ]
    }
   ],
   "source": [
    "# Without ground and cables\n",
    "pcd = o3d.geometry.PointCloud()\n",
    "pcd.points = o3d.utility.Vector3dVector(points[(point_cloud.number_of_returns == 3) & (point_cloud.return_number > 2)])\n",
    "o3d.visualization.draw_geometries([pcd])"
   ],
   "metadata": {
    "collapsed": false,
    "ExecuteTime": {
     "end_time": "2024-04-17T22:20:19.365873Z",
     "start_time": "2024-04-17T22:20:11.286094Z"
    }
   }
  },
  {
   "cell_type": "code",
   "execution_count": 53,
   "outputs": [
    {
     "name": "stdout",
     "output_type": "stream",
     "text": [
      "\u001B[1;33m[Open3D WARNING] GLFW Error: Cocoa: Failed to find service port for display\u001B[0;m\n",
      "\u001B[1;33m[Open3D WARNING] GLFW Error: Cocoa: Failed to find service port for display\u001B[0;m\n"
     ]
    }
   ],
   "source": [
    "# Without ground and cables\n",
    "pcd = o3d.geometry.PointCloud()\n",
    "pcd.points = o3d.utility.Vector3dVector(points[(point_cloud.number_of_returns >= 2) & (point_cloud.return_number == 1)])\n",
    "o3d.visualization.draw_geometries([pcd])"
   ],
   "metadata": {
    "collapsed": false,
    "ExecuteTime": {
     "end_time": "2024-04-17T22:23:10.767601Z",
     "start_time": "2024-04-17T22:23:05.618416Z"
    }
   }
  },
  {
   "cell_type": "markdown",
   "source": [
    "#### By intensity"
   ],
   "metadata": {
    "collapsed": false
   }
  },
  {
   "cell_type": "code",
   "execution_count": 48,
   "id": "fc783e69-183f-43f2-b31c-2768af113d04",
   "metadata": {
    "ExecuteTime": {
     "end_time": "2024-04-17T22:22:13.287714Z",
     "start_time": "2024-04-17T22:22:13.285229Z"
    }
   },
   "outputs": [
    {
     "name": "stdout",
     "output_type": "stream",
     "text": [
      "12\n",
      "572\n"
     ]
    }
   ],
   "source": [
    "print(min(point_cloud.intensity))\n",
    "print(max(point_cloud.intensity))"
   ]
  },
  {
   "cell_type": "code",
   "execution_count": 7,
   "id": "c72f360f-70e1-4fe2-bbeb-73ce06ae6577",
   "metadata": {
    "ExecuteTime": {
     "end_time": "2024-04-17T22:27:24.242208Z",
     "start_time": "2024-04-17T22:27:24.088503Z"
    }
   },
   "outputs": [
    {
     "data": {
      "text/plain": "(array([5.18470e+04, 3.48375e+05, 1.28292e+06, 5.03524e+05, 1.50283e+05,\n        4.52120e+04, 8.75200e+03, 1.61600e+03, 1.75000e+02, 1.80000e+01]),\n array([ 12.,  68., 124., 180., 236., 292., 348., 404., 460., 516., 572.]),\n <BarContainer object of 10 artists>)"
     },
     "execution_count": 7,
     "metadata": {},
     "output_type": "execute_result"
    },
    {
     "data": {
      "text/plain": "<Figure size 640x480 with 1 Axes>",
      "image/png": "[encoded data removed]"
     },
     "metadata": {},
     "output_type": "display_data"
    }
   ],
   "source": [
    "import matplotlib.pyplot as plt\n",
    "plt.hist(point_cloud.intensity)"
   ]
  },
  {
   "cell_type": "code",
   "execution_count": 8,
   "id": "79bbd7d6-a5d8-4d3d-b135-c88beaf32938",
   "metadata": {
    "ExecuteTime": {
     "end_time": "2024-04-17T22:27:28.589506Z",
     "start_time": "2024-04-17T22:27:24.806252Z"
    }
   },
   "outputs": [
    {
     "name": "stdout",
     "output_type": "stream",
     "text": [
      "\u001B[1;33m[Open3D WARNING] GLFW Error: Cocoa: Failed to find service port for display\u001B[0;m\n",
      "\u001B[1;33m[Open3D WARNING] GLFW Error: Cocoa: Failed to find service port for display\u001B[0;m\n"
     ]
    }
   ],
   "source": [
    "# Vedenie bez pody pod nim\n",
    "pcd = o3d.geometry.PointCloud()\n",
    "pcd.points = o3d.utility.Vector3dVector(points[(point_cloud.intensity < 50)])\n",
    "o3d.visualization.draw_geometries([pcd])"
   ]
  },
  {
   "cell_type": "code",
   "execution_count": null,
   "outputs": [],
   "source": [
    "# KEY s"
   ],
   "metadata": {
    "collapsed": false
   }
  },
  {
   "cell_type": "markdown",
   "source": [
    "## Own clolor"
   ],
   "metadata": {
    "collapsed": false
   }
  },
  {
   "cell_type": "code",
   "execution_count": 7,
   "id": "28a6478e-4084-403c-ae9f-87cc5a3551b0",
   "metadata": {},
   "outputs": [],
   "source": []
  },
  {
   "cell_type": "code",
   "execution_count": 11,
   "id": "68cda6a6-6d7b-4bff-bbca-51be07683c66",
   "metadata": {
    "ExecuteTime": {
     "end_time": "2024-04-17T22:29:42.625557Z",
     "start_time": "2024-04-17T22:29:41.658801Z"
    }
   },
   "outputs": [],
   "source": [
    "# Vedenie bez pody pod nim\n"
   ]
  },
  {
   "cell_type": "code",
   "execution_count": 12,
   "outputs": [
    {
     "name": "stdout",
     "output_type": "stream",
     "text": [
      "\u001B[1;33m[Open3D WARNING] GLFW Error: Cocoa: Failed to find service port for display\u001B[0;m\n",
      "\u001B[1;33m[Open3D WARNING] GLFW Error: Cocoa: Failed to find service port for display\u001B[0;m\n"
     ]
    }
   ],
   "source": [
    "pcd = o3d.geometry.PointCloud()\n",
    "pcd.points = o3d.utility.Vector3dVector(points)\n",
    "pcd.paint_uniform_color([0.55, 0.55, 0.55])\n",
    "# [(point_cloud.number_of_returns >= 2) & (point_cloud.return_number == 1)]\n",
    "for item in np.where(point_cloud.number_of_returns >= 2)[0]:\n",
    "    pcd.colors[int(item)] = [1,0,0.5]\n",
    "o3d.visualization.draw_geometries([pcd])"
   ],
   "metadata": {
    "collapsed": false,
    "ExecuteTime": {
     "end_time": "2024-04-17T22:30:04.960712Z",
     "start_time": "2024-04-17T22:29:43.209603Z"
    }
   }
  },
  {
   "cell_type": "markdown",
   "source": [
    "## Load point cloud"
   ],
   "metadata": {
    "collapsed": false
   }
  },
  {
   "cell_type": "code",
   "execution_count": 14,
   "id": "f98bab17-3c88-4113-beb6-187bb2d1e9fd",
   "metadata": {
    "ExecuteTime": {
     "end_time": "2024-04-17T22:31:24.416789Z",
     "start_time": "2024-04-17T22:31:24.408766Z"
    }
   },
   "outputs": [],
   "source": [
    "import laspy\n",
    "import scipy\n",
    "import numpy as np\n",
    "import matplotlib.pyplot as plt\n",
    "import open3d as o3d"
   ]
  },
  {
   "cell_type": "code",
   "execution_count": 15,
   "id": "a5961a87-6311-4dcc-a509-da76b53f2020",
   "metadata": {
    "ExecuteTime": {
     "end_time": "2024-04-17T22:31:24.686863Z",
     "start_time": "2024-04-17T22:31:24.673536Z"
    }
   },
   "outputs": [],
   "source": [
    "point_cloud = laspy.read(\"../_data/point_cloud/20_BanskaBystrica_19_341316_5383246_d_c_jtsk03_bpv_clip.las\")"
   ]
  },
  {
   "cell_type": "code",
   "execution_count": 16,
   "id": "834938ca-f561-4b10-aa58-cdead2e6b1de",
   "metadata": {
    "ExecuteTime": {
     "end_time": "2024-04-17T22:31:25.188322Z",
     "start_time": "2024-04-17T22:31:25.172792Z"
    }
   },
   "outputs": [],
   "source": [
    "# Cast to numpy\n",
    "points = np.vstack((point_cloud.x, point_cloud.y, point_cloud.z)).transpose()"
   ]
  },
  {
   "cell_type": "code",
   "execution_count": 17,
   "id": "4b76cc6f-23c5-4476-8f9e-af3522da3c35",
   "metadata": {
    "ExecuteTime": {
     "end_time": "2024-04-17T22:31:26.037977Z",
     "start_time": "2024-04-17T22:31:26.029385Z"
    }
   },
   "outputs": [
    {
     "data": {
      "text/plain": "(818721, 3)"
     },
     "execution_count": 17,
     "metadata": {},
     "output_type": "execute_result"
    }
   ],
   "source": [
    "points.shape"
   ]
  },
  {
   "cell_type": "code",
   "execution_count": 18,
   "id": "8c458972-c324-4465-8a31-9341ddfab564",
   "metadata": {
    "ExecuteTime": {
     "end_time": "2024-04-17T22:31:26.484031Z",
     "start_time": "2024-04-17T22:31:26.480021Z"
    }
   },
   "outputs": [
    {
     "data": {
      "text/plain": "array([-4.40001060e+05, -1.24467168e+06,  2.44000000e+02])"
     },
     "execution_count": 18,
     "metadata": {},
     "output_type": "execute_result"
    }
   ],
   "source": [
    "# Coordinates X, Y, Z\n",
    "points[0]"
   ]
  },
  {
   "cell_type": "code",
   "execution_count": 19,
   "id": "1cb184e0-b1b7-4689-95d6-9d0f06d32a3d",
   "metadata": {
    "ExecuteTime": {
     "end_time": "2024-04-17T22:31:36.665174Z",
     "start_time": "2024-04-17T22:31:27.275853Z"
    }
   },
   "outputs": [
    {
     "name": "stdout",
     "output_type": "stream",
     "text": [
      "\u001B[1;33m[Open3D WARNING] GLFW Error: Cocoa: Failed to find service port for display\u001B[0;m\n",
      "\u001B[1;33m[Open3D WARNING] GLFW Error: Cocoa: Failed to find service port for display\u001B[0;m\n"
     ]
    }
   ],
   "source": [
    "pcd = o3d.geometry.PointCloud()\n",
    "pcd.points = o3d.utility.Vector3dVector(points)\n",
    "o3d.visualization.draw_geometries([pcd])"
   ]
  },
  {
   "cell_type": "code",
   "execution_count": 20,
   "outputs": [
    {
     "data": {
      "text/plain": "{1, 2, 3, 4, 5, 6, 7, 18}"
     },
     "execution_count": 20,
     "metadata": {},
     "output_type": "execute_result"
    }
   ],
   "source": [
    "set(point_cloud.classification)"
   ],
   "metadata": {
    "collapsed": false,
    "ExecuteTime": {
     "end_time": "2024-04-17T22:31:39.490973Z",
     "start_time": "2024-04-17T22:31:39.481036Z"
    }
   }
  },
  {
   "cell_type": "markdown",
   "source": [
    "### Selecet class"
   ],
   "metadata": {
    "collapsed": false
   }
  },
  {
   "cell_type": "code",
   "execution_count": 21,
   "id": "ec40d983-b60a-4428-b18e-3e2f455e8e94",
   "metadata": {
    "ExecuteTime": {
     "end_time": "2024-04-17T22:31:49.547907Z",
     "start_time": "2024-04-17T22:31:42.042366Z"
    }
   },
   "outputs": [
    {
     "name": "stdout",
     "output_type": "stream",
     "text": [
      "\u001B[1;33m[Open3D WARNING] GLFW Error: Cocoa: Failed to find service port for display\u001B[0;m\n",
      "\u001B[1;33m[Open3D WARNING] GLFW Error: Cocoa: Failed to find service port for display\u001B[0;m\n"
     ]
    }
   ],
   "source": [
    "pcd = o3d.geometry.PointCloud()\n",
    "pcd.points = o3d.utility.Vector3dVector(points[point_cloud.classification == 5])\n",
    "o3d.visualization.draw_geometries([pcd])"
   ]
  },
  {
   "cell_type": "code",
   "execution_count": 22,
   "id": "644a8540-efd8-4dfd-8542-7099d0fd0720",
   "metadata": {
    "ExecuteTime": {
     "end_time": "2024-04-17T22:31:57.515584Z",
     "start_time": "2024-04-17T22:31:57.167366Z"
    }
   },
   "outputs": [
    {
     "data": {
      "text/plain": "PointCloud with 818721 points."
     },
     "execution_count": 22,
     "metadata": {},
     "output_type": "execute_result"
    }
   ],
   "source": [
    "pcd = o3d.geometry.PointCloud()\n",
    "\n",
    "pcd.points = o3d.utility.Vector3dVector(points)\n",
    "pcd.paint_uniform_color([0.5, 0.5, 0.5])"
   ]
  },
  {
   "cell_type": "code",
   "execution_count": 23,
   "id": "75664e71-35fa-4f21-942f-1e4c571ad428",
   "metadata": {
    "ExecuteTime": {
     "end_time": "2024-04-17T22:31:58.936777Z",
     "start_time": "2024-04-17T22:31:58.852282Z"
    }
   },
   "outputs": [],
   "source": [
    "for index in np.where(point_cloud.classification == 5)[0]:\n",
    "    pcd.colors[index] = [1,0,0]"
   ]
  },
  {
   "cell_type": "code",
   "execution_count": 24,
   "id": "e865a1e2-63b8-40f0-835c-000bf1b64763",
   "metadata": {
    "ExecuteTime": {
     "end_time": "2024-04-17T22:32:07.056993Z",
     "start_time": "2024-04-17T22:32:07.056505Z"
    }
   },
   "outputs": [
    {
     "name": "stdout",
     "output_type": "stream",
     "text": [
      "\u001B[1;33m[Open3D WARNING] GLFW Error: Cocoa: Failed to find service port for display\u001B[0;m\n",
      "\u001B[1;33m[Open3D WARNING] GLFW Error: Cocoa: Failed to find service port for display\u001B[0;m\n"
     ]
    }
   ],
   "source": [
    "o3d.visualization.draw_geometries([pcd])"
   ]
  },
  {
   "cell_type": "code",
   "execution_count": 25,
   "outputs": [
    {
     "data": {
      "text/plain": "(array([ 45339,  47052,  50772, ..., 811674, 811676, 811692]),)"
     },
     "execution_count": 25,
     "metadata": {},
     "output_type": "execute_result"
    }
   ],
   "source": [
    "np.where(point_cloud.classification == 5)"
   ],
   "metadata": {
    "collapsed": false,
    "ExecuteTime": {
     "end_time": "2024-04-17T22:32:09.262288Z",
     "start_time": "2024-04-17T22:32:09.245168Z"
    }
   }
  },
  {
   "cell_type": "markdown",
   "source": [
    "### Filtering"
   ],
   "metadata": {
    "collapsed": false
   }
  },
  {
   "cell_type": "code",
   "execution_count": 26,
   "id": "a51577b3-89a6-49d2-8c1c-5f3231e0ff4f",
   "metadata": {
    "ExecuteTime": {
     "end_time": "2024-04-17T22:32:10.842313Z",
     "start_time": "2024-04-17T22:32:10.832104Z"
    }
   },
   "outputs": [],
   "source": [
    "def display_inlier_outlier(cloud, ind):\n",
    "    inlier_cloud = cloud.select_by_index(ind)\n",
    "    outlier_cloud = cloud.select_by_index(ind, invert=True)\n",
    "\n",
    "    print(\"Showing outliers (red) and inliers (gray): \")\n",
    "    outlier_cloud.paint_uniform_color([1, 0, 0])\n",
    "    inlier_cloud.paint_uniform_color([0.8, 0.8, 0.8])\n",
    "    o3d.visualization.draw_geometries([inlier_cloud, outlier_cloud])"
   ]
  },
  {
   "cell_type": "code",
   "execution_count": 29,
   "id": "72baae24-0193-47fb-beeb-4cb3288f6b89",
   "metadata": {
    "ExecuteTime": {
     "end_time": "2024-04-17T22:32:35.296512Z",
     "start_time": "2024-04-17T22:32:35.291130Z"
    }
   },
   "outputs": [],
   "source": [
    "pcd = o3d.geometry.PointCloud()\n",
    "\n",
    "pcd.points = o3d.utility.Vector3dVector(points[point_cloud.classification == 5])\n",
    "# downpcd = pcd.voxel_down_sample(voxel_size=0.02)"
   ]
  },
  {
   "cell_type": "code",
   "execution_count": 29,
   "id": "e47923e7-8563-47d8-a007-d26cb2f0b75d",
   "metadata": {
    "ExecuteTime": {
     "end_time": "2024-04-17T22:32:36.204715Z",
     "start_time": "2024-04-17T22:32:36.195298Z"
    }
   },
   "outputs": [],
   "source": []
  },
  {
   "cell_type": "code",
   "execution_count": 30,
   "id": "8a5bbf54-c9c5-48f4-b3ce-8d8614013f52",
   "metadata": {
    "ExecuteTime": {
     "end_time": "2024-04-17T22:32:39.540833Z",
     "start_time": "2024-04-17T22:32:39.539778Z"
    }
   },
   "outputs": [
    {
     "name": "stdout",
     "output_type": "stream",
     "text": [
      "\u001B[1;33m[Open3D WARNING] GLFW Error: Cocoa: Failed to find service port for display\u001B[0;m\n",
      "\u001B[1;33m[Open3D WARNING] GLFW Error: Cocoa: Failed to find service port for display\u001B[0;m\n"
     ]
    }
   ],
   "source": [
    "o3d.visualization.draw_geometries([pcd])"
   ]
  },
  {
   "cell_type": "code",
   "execution_count": 31,
   "id": "c8c05ac8-65f3-4d29-bbce-9f79e99e5be8",
   "metadata": {
    "ExecuteTime": {
     "end_time": "2024-04-17T22:32:50.171622Z",
     "start_time": "2024-04-17T22:32:50.166455Z"
    }
   },
   "outputs": [
    {
     "name": "stdout",
     "output_type": "stream",
     "text": [
      "Radius oulier removal\n",
      "Showing outliers (red) and inliers (gray): \n",
      "\u001B[1;33m[Open3D WARNING] GLFW Error: Cocoa: Failed to find service port for display\u001B[0;m\n",
      "\u001B[1;33m[Open3D WARNING] GLFW Error: Cocoa: Failed to find service port for display\u001B[0;m\n"
     ]
    }
   ],
   "source": [
    "print(\"Radius oulier removal\")\n",
    "\n",
    "cl, ind = pcd.remove_radius_outlier(nb_points=20, radius=10)\n",
    "# print(ind)\n",
    "display_inlier_outlier(pcd, ind)"
   ]
  },
  {
   "cell_type": "code",
   "execution_count": 32,
   "id": "7c2c1716-b1d3-462d-b0d8-f55f23c29aad",
   "metadata": {
    "ExecuteTime": {
     "end_time": "2024-04-17T22:32:54.121665Z",
     "start_time": "2024-04-17T22:32:54.109458Z"
    }
   },
   "outputs": [
    {
     "data": {
      "text/plain": "array([False, False, False, ..., False, False, False])"
     },
     "execution_count": 32,
     "metadata": {},
     "output_type": "execute_result"
    }
   ],
   "source": [
    "point_cloud.classification == 5"
   ]
  },
  {
   "cell_type": "code",
   "execution_count": 34,
   "id": "cbc751f3-e5e5-4d22-ac01-d6a362332e21",
   "metadata": {
    "ExecuteTime": {
     "end_time": "2024-04-17T22:33:05.792532Z",
     "start_time": "2024-04-17T22:33:05.779001Z"
    }
   },
   "outputs": [
    {
     "name": "stdout",
     "output_type": "stream",
     "text": [
      "\u001B[1;33m[Open3D WARNING] GLFW Error: Cocoa: Failed to find service port for display\u001B[0;m\n",
      "\u001B[1;33m[Open3D WARNING] GLFW Error: Cocoa: Failed to find service port for display\u001B[0;m\n"
     ]
    }
   ],
   "source": [
    "o3d.visualization.draw_geometries([cl])"
   ]
  },
  {
   "cell_type": "code",
   "execution_count": 35,
   "outputs": [
    {
     "data": {
      "text/plain": "<LasData(1.4, point fmt: <PointFormat(6, 0 bytes of extra dims)>, 818721 points, 4 vlrs)>"
     },
     "execution_count": 35,
     "metadata": {},
     "output_type": "execute_result"
    }
   ],
   "source": [
    "point_cloud"
   ],
   "metadata": {
    "collapsed": false,
    "ExecuteTime": {
     "end_time": "2024-04-17T22:33:09.080974Z",
     "start_time": "2024-04-17T22:33:09.060730Z"
    }
   }
  },
  {
   "cell_type": "markdown",
   "source": [
    "### Clustering"
   ],
   "metadata": {
    "collapsed": false
   }
  },
  {
   "cell_type": "code",
   "execution_count": 36,
   "id": "44dccf4b-b210-4d21-808a-13b6bc1611ea",
   "metadata": {
    "ExecuteTime": {
     "end_time": "2024-04-17T22:33:13.519392Z",
     "start_time": "2024-04-17T22:33:13.513542Z"
    }
   },
   "outputs": [
    {
     "name": "stdout",
     "output_type": "stream",
     "text": [
      "[Open3D DEBUG] Precompute neighbors.\n",
      "Precompute neighbors.[================>           [Open3D DEBUG] Done Precompute neighbors.\n",
      "[Open3D DEBUG] Compute Clusters\n",
      "[Open3D DEBUG] Done Compute Clusters: 79\n",
      "Precompute neighbors.[========================================] 100%\n",
      "Clustering[=======================================>] 97%\r"
     ]
    }
   ],
   "source": [
    "with o3d.utility.VerbosityContextManager(\n",
    "        o3d.utility.VerbosityLevel.Debug) as cm:\n",
    "    labels = np.array(\n",
    "        cl.cluster_dbscan(eps=4, min_points=20, print_progress=True))"
   ]
  },
  {
   "cell_type": "code",
   "execution_count": 37,
   "id": "50c912cb-cee3-4d13-84aa-02cd276da677",
   "metadata": {
    "ExecuteTime": {
     "end_time": "2024-04-17T22:33:21.028847Z",
     "start_time": "2024-04-17T22:33:15.759445Z"
    }
   },
   "outputs": [
    {
     "name": "stdout",
     "output_type": "stream",
     "text": [
      "point cloud has 79 clusters\n",
      "\u001B[1;33m[Open3D WARNING] GLFW Error: Cocoa: Failed to find service port for display\u001B[0;m\n",
      "\u001B[1;33m[Open3D WARNING] GLFW Error: Cocoa: Failed to find service port for display\u001B[0;m\n"
     ]
    }
   ],
   "source": [
    "max_label = labels.max()\n",
    "print(f\"point cloud has {max_label + 1} clusters\")\n",
    "colors = plt.get_cmap(\"tab20\")(labels / (max_label if max_label > 0 else 1))\n",
    "colors[labels < 0] = 0\n",
    "cl.colors = o3d.utility.Vector3dVector(colors[:, :3])\n",
    "o3d.visualization.draw_geometries([cl])"
   ]
  },
  {
   "cell_type": "code",
   "execution_count": 38,
   "id": "43a167a7-38dd-4523-8590-8f87fb9c9c7a",
   "metadata": {
    "ExecuteTime": {
     "end_time": "2024-04-17T22:33:23.404096Z",
     "start_time": "2024-04-17T22:33:23.399335Z"
    }
   },
   "outputs": [
    {
     "data": {
      "text/plain": "Counter({0: 1975,\n         1: 53,\n         -1: 272,\n         3: 18,\n         2: 41,\n         4: 39,\n         5: 24,\n         6: 43,\n         7: 30,\n         8: 206,\n         9: 450,\n         10: 335,\n         11: 259,\n         12: 497,\n         13: 497,\n         14: 381,\n         15: 34,\n         16: 35,\n         35: 121,\n         17: 431,\n         18: 52,\n         19: 4940,\n         20: 233,\n         21: 41,\n         22: 1355,\n         23: 47,\n         24: 70,\n         25: 43,\n         26: 424,\n         27: 20,\n         28: 32,\n         29: 73,\n         30: 311,\n         31: 22,\n         32: 62,\n         33: 62,\n         34: 45,\n         36: 251,\n         37: 218,\n         38: 1551,\n         39: 3605,\n         40: 380,\n         41: 86,\n         42: 28,\n         43: 207,\n         44: 97,\n         45: 1723,\n         46: 1795,\n         47: 442,\n         48: 81,\n         49: 82,\n         50: 129,\n         51: 65,\n         52: 658,\n         53: 400,\n         54: 60,\n         55: 192,\n         56: 564,\n         57: 1214,\n         58: 25,\n         59: 38,\n         60: 131,\n         61: 193,\n         62: 240,\n         63: 33,\n         64: 464,\n         65: 39,\n         66: 611,\n         67: 69,\n         68: 399,\n         69: 344,\n         70: 790,\n         71: 257,\n         72: 128,\n         73: 755,\n         74: 81,\n         75: 174,\n         76: 148,\n         77: 389,\n         78: 743})"
     },
     "execution_count": 38,
     "metadata": {},
     "output_type": "execute_result"
    }
   ],
   "source": [
    "from collections import Counter\n",
    "Counter(labels)"
   ]
  },
  {
   "cell_type": "code",
   "execution_count": null,
   "outputs": [],
   "source": [],
   "metadata": {
    "collapsed": false
   }
  }
 ],
 "metadata": {
  "kernelspec": {
   "display_name": "Python 3 (ipykernel)",
   "language": "python",
   "name": "python3"
  },
  "language_info": {
   "codemirror_mode": {
    "name": "ipython",
    "version": 3
   },
   "file_extension": ".py",
   "mimetype": "text/x-python",
   "name": "python",
   "nbconvert_exporter": "python",
   "pygments_lexer": "ipython3",
   "version": "3.9.16"
  }
 },
 "nbformat": 4,
 "nbformat_minor": 5
}
